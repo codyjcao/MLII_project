{
 "cells": [
  {
   "cell_type": "code",
   "execution_count": 1,
   "metadata": {},
   "outputs": [],
   "source": [
    "import numpy as np\n",
    "import pandas as pd\n",
    "import time\n",
    "import matplotlib.pyplot as plt\n",
    "from tqdm import tqdm\n",
    "from datetime import datetime\n",
    "from sklearn import svm\n",
    "from sklearn.metrics import confusion_matrix\n",
    "from sklearn.preprocessing import normalize\n",
    "\n",
    "\n",
    "\n",
    "def my_loss_fn(ytruetest, ytruetrain, ypredtest, ypredtrain):\n",
    "    loss = np.array([[0,1,2],[1,0,1],[2,1,0]])\n",
    "    days = len(ytruetest)\n",
    "    losstrain = np.zeros(days)\n",
    "    losstest = np.zeros(days)\n",
    "    acctrain = np.zeros(days)\n",
    "    acctest = np.zeros(days)\n",
    "    acctrain1 = np.zeros(days)\n",
    "    acctest1 = np.zeros(days)\n",
    "    \n",
    "    for i in range(days):\n",
    "        conftrain = confusion_matrix(ytruetrain[i], ypredtrain[i])\n",
    "        acctrain[i] = (conftrain[0,0] + conftrain[2,2])/np.sum(conftrain[0] + conftrain[2])\n",
    "        acctrain1[i] = (conftrain[0,0] + conftrain[2,2])/np.sum(\n",
    "            conftrain[0,0] + conftrain[0,2] + conftrain[2,0] + conftrain[2,2])\n",
    "        losstrain[i] = np.sum(conftrain * loss)\n",
    "        \n",
    "        conftest = confusion_matrix(ytruetest[i], ypredtest[i])\n",
    "        acctest[i] = ((conftest[0,0] + conftest[2,2])/\n",
    "                      np.sum(conftest[0] + conftest[2]))\n",
    "        acctest1[i] = (conftest[0,0] + conftest[2,2])/np.sum(\n",
    "            conftest[0,0] + conftest[0,2] + conftest[2,0] + conftest[2,2])\n",
    "        losstest[i] = np.sum(conftest * loss)\n",
    "    \n",
    "    ind = [('Day ' + str(i+1))for i in range(days)]\n",
    "    col = ['Loss Train','Loss Test','Accuracy Train 1',\n",
    "           'Accuracy Train 2','Accuracy Test 1',\n",
    "           'Accuracy Test 2']\n",
    "    retv = zip(col,(losstrain, losstest, acctrain, acctrain1, acctest, acctest1))\n",
    "    return pd.DataFrame(dict(retv),index=ind)"
   ]
  },
  {
   "cell_type": "markdown",
   "metadata": {},
   "source": [
    "# Loading in Data"
   ]
  },
  {
   "cell_type": "code",
   "execution_count": 2,
   "metadata": {},
   "outputs": [
    {
     "name": "stderr",
     "output_type": "stream",
     "text": [
      "D:\\Programs\\Anaconda\\lib\\site-packages\\numpy\\lib\\arraysetops.py:569: FutureWarning: elementwise comparison failed; returning scalar instead, but in the future will perform elementwise comparison\n",
      "  mask |= (ar1 == a)\n"
     ]
    }
   ],
   "source": [
    "DF = pd.read_csv('ESH2019_final.csv',\n",
    "                 index_col = 0,\n",
    "                 dtype={'Time':str})"
   ]
  },
  {
   "cell_type": "code",
   "execution_count": 3,
   "metadata": {},
   "outputs": [
    {
     "data": {
      "text/html": [
       "<div>\n",
       "<style scoped>\n",
       "    .dataframe tbody tr th:only-of-type {\n",
       "        vertical-align: middle;\n",
       "    }\n",
       "\n",
       "    .dataframe tbody tr th {\n",
       "        vertical-align: top;\n",
       "    }\n",
       "\n",
       "    .dataframe thead th {\n",
       "        text-align: right;\n",
       "    }\n",
       "</style>\n",
       "<table border=\"1\" class=\"dataframe\">\n",
       "  <thead>\n",
       "    <tr style=\"text-align: right;\">\n",
       "      <th></th>\n",
       "      <th>Date</th>\n",
       "      <th>msecs</th>\n",
       "      <th>Time</th>\n",
       "      <th>Bid Price</th>\n",
       "      <th>Bid Size</th>\n",
       "      <th>Ask Price</th>\n",
       "      <th>Ask Size</th>\n",
       "      <th>Mid</th>\n",
       "      <th>dM</th>\n",
       "      <th>M_10ma</th>\n",
       "      <th>...</th>\n",
       "      <th>OI</th>\n",
       "      <th>OI_a1</th>\n",
       "      <th>OI_a2</th>\n",
       "      <th>OI_a3</th>\n",
       "      <th>OI_a4</th>\n",
       "      <th>OI_a5</th>\n",
       "      <th>OI_5ma</th>\n",
       "      <th>OI_10ma</th>\n",
       "      <th>OI_20ma</th>\n",
       "      <th>OI Ratio</th>\n",
       "    </tr>\n",
       "  </thead>\n",
       "  <tbody>\n",
       "    <tr>\n",
       "      <th>0</th>\n",
       "      <td>01/02/2019</td>\n",
       "      <td>28800000.0</td>\n",
       "      <td>07:59:59.757</td>\n",
       "      <td>2467.50</td>\n",
       "      <td>9.0</td>\n",
       "      <td>2467.75</td>\n",
       "      <td>36.0</td>\n",
       "      <td>2467.625</td>\n",
       "      <td>NaN</td>\n",
       "      <td>NaN</td>\n",
       "      <td>...</td>\n",
       "      <td>NaN</td>\n",
       "      <td>NaN</td>\n",
       "      <td>NaN</td>\n",
       "      <td>NaN</td>\n",
       "      <td>NaN</td>\n",
       "      <td>NaN</td>\n",
       "      <td>NaN</td>\n",
       "      <td>NaN</td>\n",
       "      <td>NaN</td>\n",
       "      <td>-0.600000</td>\n",
       "    </tr>\n",
       "    <tr>\n",
       "      <th>1</th>\n",
       "      <td>01/02/2019</td>\n",
       "      <td>28800500.0</td>\n",
       "      <td>08:00:00.305</td>\n",
       "      <td>2467.25</td>\n",
       "      <td>36.0</td>\n",
       "      <td>2467.50</td>\n",
       "      <td>19.0</td>\n",
       "      <td>2467.375</td>\n",
       "      <td>-0.25</td>\n",
       "      <td>NaN</td>\n",
       "      <td>...</td>\n",
       "      <td>-19.0</td>\n",
       "      <td>NaN</td>\n",
       "      <td>NaN</td>\n",
       "      <td>NaN</td>\n",
       "      <td>NaN</td>\n",
       "      <td>NaN</td>\n",
       "      <td>NaN</td>\n",
       "      <td>NaN</td>\n",
       "      <td>NaN</td>\n",
       "      <td>0.309091</td>\n",
       "    </tr>\n",
       "    <tr>\n",
       "      <th>2</th>\n",
       "      <td>01/02/2019</td>\n",
       "      <td>28801000.0</td>\n",
       "      <td>08:00:00.826</td>\n",
       "      <td>2467.25</td>\n",
       "      <td>42.0</td>\n",
       "      <td>2467.50</td>\n",
       "      <td>3.0</td>\n",
       "      <td>2467.375</td>\n",
       "      <td>0.00</td>\n",
       "      <td>NaN</td>\n",
       "      <td>...</td>\n",
       "      <td>22.0</td>\n",
       "      <td>-19.0</td>\n",
       "      <td>NaN</td>\n",
       "      <td>NaN</td>\n",
       "      <td>NaN</td>\n",
       "      <td>NaN</td>\n",
       "      <td>NaN</td>\n",
       "      <td>NaN</td>\n",
       "      <td>NaN</td>\n",
       "      <td>0.866667</td>\n",
       "    </tr>\n",
       "    <tr>\n",
       "      <th>3</th>\n",
       "      <td>01/02/2019</td>\n",
       "      <td>28801500.0</td>\n",
       "      <td>08:00:01.349</td>\n",
       "      <td>2467.25</td>\n",
       "      <td>29.0</td>\n",
       "      <td>2467.50</td>\n",
       "      <td>30.0</td>\n",
       "      <td>2467.375</td>\n",
       "      <td>0.00</td>\n",
       "      <td>NaN</td>\n",
       "      <td>...</td>\n",
       "      <td>-40.0</td>\n",
       "      <td>22.0</td>\n",
       "      <td>-19.0</td>\n",
       "      <td>NaN</td>\n",
       "      <td>NaN</td>\n",
       "      <td>NaN</td>\n",
       "      <td>NaN</td>\n",
       "      <td>NaN</td>\n",
       "      <td>NaN</td>\n",
       "      <td>-0.016949</td>\n",
       "    </tr>\n",
       "    <tr>\n",
       "      <th>4</th>\n",
       "      <td>01/02/2019</td>\n",
       "      <td>28802000.0</td>\n",
       "      <td>08:00:01.761</td>\n",
       "      <td>2467.25</td>\n",
       "      <td>42.0</td>\n",
       "      <td>2467.50</td>\n",
       "      <td>22.0</td>\n",
       "      <td>2467.375</td>\n",
       "      <td>0.00</td>\n",
       "      <td>NaN</td>\n",
       "      <td>...</td>\n",
       "      <td>21.0</td>\n",
       "      <td>-40.0</td>\n",
       "      <td>22.0</td>\n",
       "      <td>-19.0</td>\n",
       "      <td>NaN</td>\n",
       "      <td>NaN</td>\n",
       "      <td>NaN</td>\n",
       "      <td>NaN</td>\n",
       "      <td>NaN</td>\n",
       "      <td>0.312500</td>\n",
       "    </tr>\n",
       "  </tbody>\n",
       "</table>\n",
       "<p>5 rows × 35 columns</p>\n",
       "</div>"
      ],
      "text/plain": [
       "         Date       msecs          Time  Bid Price  Bid Size  Ask Price  \\\n",
       "0  01/02/2019  28800000.0  07:59:59.757    2467.50       9.0    2467.75   \n",
       "1  01/02/2019  28800500.0  08:00:00.305    2467.25      36.0    2467.50   \n",
       "2  01/02/2019  28801000.0  08:00:00.826    2467.25      42.0    2467.50   \n",
       "3  01/02/2019  28801500.0  08:00:01.349    2467.25      29.0    2467.50   \n",
       "4  01/02/2019  28802000.0  08:00:01.761    2467.25      42.0    2467.50   \n",
       "\n",
       "   Ask Size       Mid    dM  M_10ma  ...    OI  OI_a1  OI_a2  OI_a3  OI_a4  \\\n",
       "0      36.0  2467.625   NaN     NaN  ...   NaN    NaN    NaN    NaN    NaN   \n",
       "1      19.0  2467.375 -0.25     NaN  ... -19.0    NaN    NaN    NaN    NaN   \n",
       "2       3.0  2467.375  0.00     NaN  ...  22.0  -19.0    NaN    NaN    NaN   \n",
       "3      30.0  2467.375  0.00     NaN  ... -40.0   22.0  -19.0    NaN    NaN   \n",
       "4      22.0  2467.375  0.00     NaN  ...  21.0  -40.0   22.0  -19.0    NaN   \n",
       "\n",
       "   OI_a5  OI_5ma  OI_10ma  OI_20ma  OI Ratio  \n",
       "0    NaN     NaN      NaN      NaN -0.600000  \n",
       "1    NaN     NaN      NaN      NaN  0.309091  \n",
       "2    NaN     NaN      NaN      NaN  0.866667  \n",
       "3    NaN     NaN      NaN      NaN -0.016949  \n",
       "4    NaN     NaN      NaN      NaN  0.312500  \n",
       "\n",
       "[5 rows x 35 columns]"
      ]
     },
     "execution_count": 3,
     "metadata": {},
     "output_type": "execute_result"
    }
   ],
   "source": [
    "DF.head()"
   ]
  },
  {
   "cell_type": "code",
   "execution_count": 4,
   "metadata": {},
   "outputs": [],
   "source": [
    "DF.loc[:,'Time'] = DF.loc[:,'Time'].replace(np.nan,'',regex=True)"
   ]
  },
  {
   "cell_type": "markdown",
   "metadata": {},
   "source": [
    "# Exploration"
   ]
  },
  {
   "cell_type": "code",
   "execution_count": 5,
   "metadata": {},
   "outputs": [
    {
     "data": {
      "image/png": "[encoded data removed]",
      "text/plain": [
       "<Figure size 576x432 with 1 Axes>"
      ]
     },
     "metadata": {
      "needs_background": "light"
     },
     "output_type": "display_data"
    }
   ],
   "source": [
    "plt.figure(figsize=(8,6))\n",
    "plt.scatter(DF['OI'],DF['dM'])\n",
    "plt.xlabel(\"VOI (500ms)\")\n",
    "plt.ylabel(\"Price Change (500ms)\")\n",
    "plt.show()"
   ]
  },
  {
   "cell_type": "code",
   "execution_count": 6,
   "metadata": {},
   "outputs": [
    {
     "data": {
      "text/html": [
       "<div>\n",
       "<style scoped>\n",
       "    .dataframe tbody tr th:only-of-type {\n",
       "        vertical-align: middle;\n",
       "    }\n",
       "\n",
       "    .dataframe tbody tr th {\n",
       "        vertical-align: top;\n",
       "    }\n",
       "\n",
       "    .dataframe thead th {\n",
       "        text-align: right;\n",
       "    }\n",
       "</style>\n",
       "<table border=\"1\" class=\"dataframe\">\n",
       "  <thead>\n",
       "    <tr style=\"text-align: right;\">\n",
       "      <th></th>\n",
       "      <th>OI</th>\n",
       "      <th>dM</th>\n",
       "    </tr>\n",
       "  </thead>\n",
       "  <tbody>\n",
       "    <tr>\n",
       "      <th>OI</th>\n",
       "      <td>1.000000</td>\n",
       "      <td>0.361549</td>\n",
       "    </tr>\n",
       "    <tr>\n",
       "      <th>dM</th>\n",
       "      <td>0.361549</td>\n",
       "      <td>1.000000</td>\n",
       "    </tr>\n",
       "  </tbody>\n",
       "</table>\n",
       "</div>"
      ],
      "text/plain": [
       "          OI        dM\n",
       "OI  1.000000  0.361549\n",
       "dM  0.361549  1.000000"
      ]
     },
     "execution_count": 6,
     "metadata": {},
     "output_type": "execute_result"
    }
   ],
   "source": [
    "DF[['OI','dM']].corr()"
   ]
  },
  {
   "cell_type": "markdown",
   "metadata": {},
   "source": [
    "# SVM"
   ]
  },
  {
   "cell_type": "code",
   "execution_count": 7,
   "metadata": {},
   "outputs": [],
   "source": [
    "# defining which features to use\n",
    "\n",
    "x_labs = ['OI_a1', 'OI_a2', 'OI_a3', 'OI_a4', 'OI_a5',\n",
    "          'OI Ratio','OI_10ma','OI_20ma'] # covars\n",
    "y_labs = ['signal6']"
   ]
  },
  {
   "cell_type": "code",
   "execution_count": 8,
   "metadata": {},
   "outputs": [],
   "source": [
    "def my_confusion_matrix(ytrue,ypred,labs=[1,0,-1]):\n",
    "    from sklearn.metrics import confusion_matrix\n",
    "    cols = ['Buy (p)','Hold (p)','Sell (p)']\n",
    "    ind = ['Buy (t)','Hold (t)','Sell (t)']\n",
    "    mat = confusion_matrix(ytrue,ypred,labs)\n",
    "    return pd.DataFrame(mat, columns=cols,index=ind)"
   ]
  },
  {
   "cell_type": "markdown",
   "metadata": {},
   "source": [
    "## Cross Validation"
   ]
  },
  {
   "cell_type": "code",
   "execution_count": 9,
   "metadata": {},
   "outputs": [],
   "source": [
    "from sklearn.model_selection import cross_validate\n",
    "from sklearn.metrics import make_scorer\n",
    "\n",
    "# trading loss for our own CV\n",
    "def trading_loss(ytrue,ypred):\n",
    "    conftrain = confusion_matrix(ytrue, ypred)\n",
    "    loss = np.array([[0,1,2],[1,0,1],[2,1,0]])\n",
    "    return np.sum(conftrain * loss)\n",
    "\n",
    "# callable to score for CV\n",
    "trade_scorer=make_scorer(trading_loss,greater_is_better=False)"
   ]
  },
  {
   "cell_type": "markdown",
   "metadata": {},
   "source": [
    "### Extracting the train/test indexes"
   ]
  },
  {
   "cell_type": "code",
   "execution_count": 28,
   "metadata": {},
   "outputs": [],
   "source": [
    "def my_train_test_idx(DF,xlabs=x_labs,ylabs=['signal6'],return_df=False,n_days=4):\n",
    "    '''\n",
    "    input your data frame and which x's you want to use\n",
    "        as a list into xlabs\n",
    "        \n",
    "    return_df to return new data frame for CV\n",
    "    return value is list of 2-tuples of train & test\n",
    "        index iterables\n",
    "        - pass directly into the cv parameter of cross_validate\n",
    "    '''\n",
    "    df = DF[['Date']+xlabs+ylabs].dropna()\n",
    "    \n",
    "    #list of lengths of each day's data\n",
    "    lengths = []\n",
    "    for d in np.unique(DF['Date'].values)[:n_days]:\n",
    "        lengths.append(df[df['Date']==d].shape[0])\n",
    "    \n",
    "    # where each day starts/ends\n",
    "    bounds = np.cumsum(lengths)\n",
    "    \n",
    "    # list of 2-tuples of train & test indexes\n",
    "    train_test_idx=[]\n",
    "    prev=0\n",
    "    for idx,val in enumerate(bounds[:-1]):\n",
    "        train_id = range(prev,val)\n",
    "        test_id = range(val,bounds[idx+1])\n",
    "        prev = val\n",
    "        train_test_idx.append((np.array(train_id),np.array(test_id)))\n",
    "    \n",
    "    if return_df:\n",
    "        return (train_test_idx,df)\n",
    "    return (train_test_idx)"
   ]
  },
  {
   "cell_type": "code",
   "execution_count": 29,
   "metadata": {},
   "outputs": [],
   "source": [
    "idxs, df_cv = my_train_test_idx(DF,x_labs,return_df=True)"
   ]
  },
  {
   "cell_type": "code",
   "execution_count": 30,
   "metadata": {},
   "outputs": [
    {
     "data": {
      "text/plain": [
       "[(array([    0,     1,     2, ..., 50378, 50379, 50380]),\n",
       "  array([ 50381,  50382,  50383, ..., 100760, 100761, 100762])),\n",
       " (array([ 50381,  50382,  50383, ..., 100760, 100761, 100762]),\n",
       "  array([100763, 100764, 100765, ..., 151142, 151143, 151144])),\n",
       " (array([100763, 100764, 100765, ..., 151142, 151143, 151144]),\n",
       "  array([151145, 151146, 151147, ..., 201524, 201525, 201526]))]"
      ]
     },
     "execution_count": 30,
     "metadata": {},
     "output_type": "execute_result"
    }
   ],
   "source": [
    "idxs"
   ]
  },
  {
   "cell_type": "markdown",
   "metadata": {},
   "source": [
    "## Testing CV and GridSearchCV"
   ]
  },
  {
   "cell_type": "code",
   "execution_count": 12,
   "metadata": {},
   "outputs": [],
   "source": [
    "from sklearn.model_selection import GridSearchCV\n",
    "tune_params = {'C':np.logspace(-5,5,20)}"
   ]
  },
  {
   "cell_type": "code",
   "execution_count": 31,
   "metadata": {},
   "outputs": [
    {
     "data": {
      "text/plain": [
       "GridSearchCV(cv=[(array([    0,     1, ..., 50379, 50380]), array([ 50381,  50382, ..., 100761, 100762])), (array([ 50381,  50382, ..., 100761, 100762]), array([100763, 100764, ..., 151143, 151144])), (array([100763, 100764, ..., 151143, 151144]), array([151145, 151146, ..., 201525, 201526]))],\n",
       "       error_score='raise-deprecating',\n",
       "       estimator=LinearSVC(C=1.0, class_weight='balanced', dual=False, fit_intercept=True,\n",
       "     intercept_scaling=1, loss='squared_hinge', max_iter=1000,\n",
       "     multi_class='ovr', penalty='l2', random_state=None, tol=0.0001,\n",
       "     verbose=0),\n",
       "       fit_params=None, iid='warn', n_jobs=None,\n",
       "       param_grid={'C': array([1.00000e-05, 3.35982e-05, 1.12884e-04, 3.79269e-04, 1.27427e-03,\n",
       "       4.28133e-03, 1.43845e-02, 4.83293e-02, 1.62378e-01, 5.45559e-01,\n",
       "       1.83298e+00, 6.15848e+00, 2.06914e+01, 6.95193e+01, 2.33572e+02,\n",
       "       7.84760e+02, 2.63665e+03, 8.85867e+03, 2.97635e+04, 1.00000e+05])},\n",
       "       pre_dispatch='2*n_jobs', refit=True, return_train_score='warn',\n",
       "       scoring=make_scorer(trading_loss, greater_is_better=False),\n",
       "       verbose=0)"
      ]
     },
     "execution_count": 31,
     "metadata": {},
     "output_type": "execute_result"
    }
   ],
   "source": [
    "fit = GridSearchCV(svm.LinearSVC(dual=False,class_weight='balanced'),\n",
    "                   tune_params,scoring=trade_scorer,cv=idxs)\n",
    "fit.fit(df_cv[x_labs].values,y=df_cv['signal6'].values)"
   ]
  },
  {
   "cell_type": "code",
   "execution_count": 32,
   "metadata": {
    "scrolled": true
   },
   "outputs": [
    {
     "data": {
      "text/plain": [
       "{'C': 1.8329807108324339}"
      ]
     },
     "execution_count": 32,
     "metadata": {},
     "output_type": "execute_result"
    }
   ],
   "source": [
    "best_C = fit.best_params_['C']\n",
    "fit.best_params_"
   ]
  },
  {
   "cell_type": "markdown",
   "metadata": {},
   "source": [
    "---"
   ]
  },
  {
   "cell_type": "code",
   "execution_count": null,
   "metadata": {},
   "outputs": [],
   "source": [
    "# figure out how to do feature importance for SVM?\n",
    "'''\n",
    "def f_importances(coef, names):\n",
    "    imp = coef\n",
    "    imp,names = zip(*sorted(zip(imp,names)))\n",
    "    plt.barh(range(len(names)), imp, align='center')\n",
    "    plt.yticks(range(len(names)), names)\n",
    "    plt.show()\n",
    "\n",
    "f_importances(sv.coef_, x_labs)\n",
    "'''"
   ]
  },
  {
   "cell_type": "markdown",
   "metadata": {},
   "source": [
    "---"
   ]
  },
  {
   "cell_type": "markdown",
   "metadata": {},
   "source": [
    "### Prediction Time Comparison Between Estimators"
   ]
  },
  {
   "cell_type": "code",
   "execution_count": 49,
   "metadata": {},
   "outputs": [],
   "source": [
    "x_labs = ['OI_a1', 'OI_a2', 'OI_a3', 'OI_a4', 'OI_a5',\n",
    "          'OI Ratio','OI_10ma','OI_20ma']\n",
    "\n",
    "def predict_time(estimators, df, fitted,xlabs=x_labs,ylab='signal6',n_iter=50,n_points = 200000):\n",
    "    '''\n",
    "    estimators - a list of estimators to be compared for predicting\n",
    "    \n",
    "    df - pandas data frame that we've been suing\n",
    "    \n",
    "    n_points - int: how many points to predict on for comparison\n",
    "    \n",
    "    return - data frame comparing prediction times for each estimator on\n",
    "            n_points of data\n",
    "    '''\n",
    "    \n",
    "    import random\n",
    "    import numpy as np\n",
    "    import time\n",
    "    x = xlabs\n",
    "    tmp_df = df[['Date'] + xlabs + [ylab]].dropna()\n",
    "\n",
    "    if not fitted:\n",
    "        d = random.choice(np.unique(tmp_df['Date'].values))\n",
    "        test = tmp_df[tmp_df['Date']==d]\n",
    "        X = test[x].values\n",
    "        y = test[ylab].values\n",
    "        for estim in estimators:\n",
    "            estim.fit(X,y)\n",
    "    \n",
    "    times = np.zeros((len(estimators),n_iter))\n",
    "    \n",
    "    test_idx = np.random.randint(0,tmp_df.shape[0],size=n_points)\n",
    "    X_test = tmp_df.iloc[test_idx,:][x].values\n",
    "    \n",
    "    for k in range(n_iter):\n",
    "        for idx,estim in enumerate(estimators):\n",
    "            start = time.time()\n",
    "            pred = estim.predict(X_test)\n",
    "            #print(pred)\n",
    "            end = time.time()\n",
    "            times[idx,k] = end-start\n",
    "    \n",
    "    columns = ['Trial ' + str(i+1) for i in range(n_iter)]\n",
    "    return pd.DataFrame(times, columns = columns, index = range(1,len(estimators)+1))"
   ]
  },
  {
   "cell_type": "code",
   "execution_count": 53,
   "metadata": {},
   "outputs": [],
   "source": [
    "from sklearn.linear_model import LinearRegression\n",
    "lr = LinearRegression()\n",
    "sv = svm.LinearSVC(dual = False)\n",
    "\n",
    "test = predict_time([lr,sv],df_test,False,x_labs)"
   ]
  },
  {
   "cell_type": "code",
   "execution_count": 54,
   "metadata": {},
   "outputs": [
    {
     "data": {
      "text/html": [
       "<div>\n",
       "<style scoped>\n",
       "    .dataframe tbody tr th:only-of-type {\n",
       "        vertical-align: middle;\n",
       "    }\n",
       "\n",
       "    .dataframe tbody tr th {\n",
       "        vertical-align: top;\n",
       "    }\n",
       "\n",
       "    .dataframe thead th {\n",
       "        text-align: right;\n",
       "    }\n",
       "</style>\n",
       "<table border=\"1\" class=\"dataframe\">\n",
       "  <thead>\n",
       "    <tr style=\"text-align: right;\">\n",
       "      <th></th>\n",
       "      <th>Trial 1</th>\n",
       "      <th>Trial 2</th>\n",
       "      <th>Trial 3</th>\n",
       "      <th>Trial 4</th>\n",
       "      <th>Trial 5</th>\n",
       "      <th>Trial 6</th>\n",
       "      <th>Trial 7</th>\n",
       "      <th>Trial 8</th>\n",
       "      <th>Trial 9</th>\n",
       "      <th>Trial 10</th>\n",
       "      <th>...</th>\n",
       "      <th>Trial 41</th>\n",
       "      <th>Trial 42</th>\n",
       "      <th>Trial 43</th>\n",
       "      <th>Trial 44</th>\n",
       "      <th>Trial 45</th>\n",
       "      <th>Trial 46</th>\n",
       "      <th>Trial 47</th>\n",
       "      <th>Trial 48</th>\n",
       "      <th>Trial 49</th>\n",
       "      <th>Trial 50</th>\n",
       "    </tr>\n",
       "  </thead>\n",
       "  <tbody>\n",
       "    <tr>\n",
       "      <th>1</th>\n",
       "      <td>0.002928</td>\n",
       "      <td>0.002997</td>\n",
       "      <td>0.002995</td>\n",
       "      <td>0.003992</td>\n",
       "      <td>0.003989</td>\n",
       "      <td>0.002994</td>\n",
       "      <td>0.002996</td>\n",
       "      <td>0.002995</td>\n",
       "      <td>0.002996</td>\n",
       "      <td>0.003990</td>\n",
       "      <td>...</td>\n",
       "      <td>0.003920</td>\n",
       "      <td>0.003952</td>\n",
       "      <td>0.002995</td>\n",
       "      <td>0.003956</td>\n",
       "      <td>0.003956</td>\n",
       "      <td>0.003006</td>\n",
       "      <td>0.003027</td>\n",
       "      <td>0.003027</td>\n",
       "      <td>0.002993</td>\n",
       "      <td>0.003989</td>\n",
       "    </tr>\n",
       "    <tr>\n",
       "      <th>2</th>\n",
       "      <td>0.010969</td>\n",
       "      <td>0.010966</td>\n",
       "      <td>0.009969</td>\n",
       "      <td>0.009972</td>\n",
       "      <td>0.009974</td>\n",
       "      <td>0.010967</td>\n",
       "      <td>0.010968</td>\n",
       "      <td>0.010967</td>\n",
       "      <td>0.009970</td>\n",
       "      <td>0.009972</td>\n",
       "      <td>...</td>\n",
       "      <td>0.010045</td>\n",
       "      <td>0.011936</td>\n",
       "      <td>0.010002</td>\n",
       "      <td>0.009009</td>\n",
       "      <td>0.009008</td>\n",
       "      <td>0.009927</td>\n",
       "      <td>0.009938</td>\n",
       "      <td>0.009938</td>\n",
       "      <td>0.009974</td>\n",
       "      <td>0.009973</td>\n",
       "    </tr>\n",
       "  </tbody>\n",
       "</table>\n",
       "<p>2 rows × 50 columns</p>\n",
       "</div>"
      ],
      "text/plain": [
       "    Trial 1   Trial 2   Trial 3   Trial 4   Trial 5   Trial 6   Trial 7  \\\n",
       "1  0.002928  0.002997  0.002995  0.003992  0.003989  0.002994  0.002996   \n",
       "2  0.010969  0.010966  0.009969  0.009972  0.009974  0.010967  0.010968   \n",
       "\n",
       "    Trial 8   Trial 9  Trial 10  ...  Trial 41  Trial 42  Trial 43  Trial 44  \\\n",
       "1  0.002995  0.002996  0.003990  ...  0.003920  0.003952  0.002995  0.003956   \n",
       "2  0.010967  0.009970  0.009972  ...  0.010045  0.011936  0.010002  0.009009   \n",
       "\n",
       "   Trial 45  Trial 46  Trial 47  Trial 48  Trial 49  Trial 50  \n",
       "1  0.003956  0.003006  0.003027  0.003027  0.002993  0.003989  \n",
       "2  0.009008  0.009927  0.009938  0.009938  0.009974  0.009973  \n",
       "\n",
       "[2 rows x 50 columns]"
      ]
     },
     "execution_count": 54,
     "metadata": {},
     "output_type": "execute_result"
    }
   ],
   "source": [
    "test"
   ]
  },
  {
   "cell_type": "code",
   "execution_count": 56,
   "metadata": {},
   "outputs": [
    {
     "data": {
      "image/png": "[encoded data removed]",
      "text/plain": [
       "<Figure size 432x288 with 1 Axes>"
      ]
     },
     "metadata": {
      "needs_background": "light"
     },
     "output_type": "display_data"
    }
   ],
   "source": [
    "plt.scatter(range(50),test.iloc[0,:])\n",
    "plt.scatter(range(50),test.iloc[1,:])\n",
    "plt.show()"
   ]
  },
  {
   "cell_type": "markdown",
   "metadata": {},
   "source": [
    "---"
   ]
  },
  {
   "cell_type": "markdown",
   "metadata": {},
   "source": [
    "## Testing on Data Set"
   ]
  },
  {
   "cell_type": "code",
   "execution_count": 17,
   "metadata": {},
   "outputs": [],
   "source": [
    "train_CFM  = []    # training confusion matrices\n",
    "test_CFM   = []    # test confusion matrices\n",
    "\n",
    "train_loss = []    # training loss\n",
    "test_loss  = []    # test loss\n",
    "\n",
    "y_pred_vec_tr = [] # training predictions\n",
    "y_true_vec_tr = [] # true training values\n",
    "\n",
    "y_pred_vec_te = [] # test predictions\n",
    "y_true_vec_te = [] # true test predictions\n",
    "\n",
    "\n",
    "i_vec = my_train_test_idx(DF,x_labs,['signal6'],\n",
    "                 return_df=False,\n",
    "                 n_days=np.unique(DF['Date']).shape[0]\n",
    "                )\n",
    "test_idx = i_vec[3:]\n",
    "df_test = df_cv.copy()"
   ]
  },
  {
   "cell_type": "code",
   "execution_count": null,
   "metadata": {},
   "outputs": [],
   "source": [
    "###### TESTING ON THE DATA ######\n",
    "sv_fit = svm.LinearSVC(C=best_C,dual=False,class_weight='balanced')\n",
    "for i,j in tqdm(test_idx):\n",
    "    X_train = df_test.iloc[i,:][x_labs].values\n",
    "    y_train = df_test.iloc[i,:]['signal6'].values\n",
    "    X_test = df_test.iloc[j,:][x_labs].values\n",
    "    y_test = df_test.iloc[j,:]['signal6'].values\n",
    "    \n",
    "    sv_fit.fit(X_train,y_train)\n",
    "    \n",
    "    # predictions\n",
    "    p_tr = sv_fit.predict(X_train)\n",
    "    p_te = sv_fit.predict(X_test)\n",
    "    \n",
    "    y_pred_vec_tr.append(p_tr)\n",
    "    y_pred_vec_te.append(p_te)\n",
    "    \n",
    "    y_true_vec_tr.append(y_train)\n",
    "    y_true_vec_te.append(y_test)\n",
    "    \n",
    "    # confusion matrices\n",
    "    train_CFM.append(my_confusion_matrix(y_train,p_tr,[1,0,-1]))\n",
    "    test_CFM.append(my_confusion_matrix(y_test,p_te,[1,0,-1]))\n",
    "    \n",
    "    # loss\n",
    "    train_loss.append(trading_loss(y_train,p_tr))\n",
    "    test_loss.append(trading_loss(y_test,p_te))"
   ]
  }
 ],
 "metadata": {
  "kernelspec": {
   "display_name": "Python 3",
   "language": "python",
   "name": "python3"
  },
  "language_info": {
   "codemirror_mode": {
    "name": "ipython",
    "version": 3
   },
   "file_extension": ".py",
   "mimetype": "text/x-python",
   "name": "python",
   "nbconvert_exporter": "python",
   "pygments_lexer": "ipython3",
   "version": "3.7.3"
  }
 },
 "nbformat": 4,
 "nbformat_minor": 2
}
