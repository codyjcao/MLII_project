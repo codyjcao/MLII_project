{
 "cells": [
  {
   "cell_type": "code",
   "execution_count": 2,
   "metadata": {},
   "outputs": [],
   "source": [
    "import numpy as np\n",
    "import pandas as pd\n",
    "import matplotlib.pyplot as plt\n",
    "from tqdm import tqdm\n",
    "\n",
    "start = 34500000 # (9 +(35/60))hrs*3600 seconds * 1000milliseconds/second == 9:35 AM -- 5 minutes after market open\n",
    "end = 55800000 # 3:30 PM -- 30 minutes prior to market close\n",
    "dtypes = {'Time':str,'Bid Price':np.float32, 'Bid Size':np.float32, 'Ask Price':np.float32,\n",
    "       'Ask Size':np.float32, 'Mid':np.float32, 'dM':np.float32, 'dM_20ma':np.float32,\n",
    "        'signal':np.float32, 'B eq ind':np.bool_, 'B > ind':np.bool_,\n",
    "       'A eq ind':np.bool_, 'A < ind':np.bool_, 'dVB':np.float32, 'dVA':np.float32, 'OI':np.float32,\n",
    "        'OI_a1':np.float32, 'OI_a2':np.float32, 'OI_a3':np.float32,'OI_a4':np.float32,\n",
    "        'OI_a5':np.float32, 'OI_5ma':np.float32, 'OI_10ma':np.float32,\n",
    "        'OI_20ma':np.float32, 'M_20ma':np.float32, 'M_20fma':np.float32,\n",
    "       'M_10fma':np.float32, 'signal2':np.float32, 'OI Ratio':np.float32}"
   ]
  },
  {
   "cell_type": "markdown",
   "metadata": {},
   "source": [
    "# Data Preparation"
   ]
  },
  {
   "cell_type": "code",
   "execution_count": 3,
   "metadata": {},
   "outputs": [
    {
     "name": "stderr",
     "output_type": "stream",
     "text": [
      "D:\\Programs\\Anaconda\\lib\\site-packages\\numpy\\lib\\arraysetops.py:522: FutureWarning: elementwise comparison failed; returning scalar instead, but in the future will perform elementwise comparison\n",
      "  mask |= (ar1 == a)\n"
     ]
    }
   ],
   "source": [
    "###################### ONLY RUN ONCE ###########################\n",
    "fname = 'ESM2019f.csv'\n",
    "DF = pd.read_csv(fname, dtype = dtypes,index_col=0)\n",
    "DF.loc[:,'Time'] = DF.loc[:,'Time'].replace(np.nan,'',regex=True)\n",
    "###################### ONLY RUN ONCE ###########################"
   ]
  },
  {
   "cell_type": "markdown",
   "metadata": {},
   "source": [
    "# Exploration"
   ]
  },
  {
   "cell_type": "code",
   "execution_count": 4,
   "metadata": {},
   "outputs": [
    {
     "data": {
      "image/png": "[encoded data removed]",
      "text/plain": [
       "<Figure size 576x720 with 2 Axes>"
      ]
     },
     "metadata": {
      "needs_background": "light"
     },
     "output_type": "display_data"
    }
   ],
   "source": [
    "fig,ax = plt.subplots(2,1, sharex = True)\n",
    "fig.set_figheight(10)\n",
    "fig.set_figwidth(8)\n",
    "ax[0].set_title(\"Ask Size\")\n",
    "ax[1].set_title(\"Bid Size\")\n",
    "DF['Ask Size'].hist(bins=20, ax=ax[0])\n",
    "DF['Bid Size'].hist(bins=20, ax=ax[1])\n",
    "plt.show()"
   ]
  },
  {
   "cell_type": "code",
   "execution_count": 5,
   "metadata": {},
   "outputs": [
    {
     "data": {
      "image/png": "[encoded data removed]",
      "text/plain": [
       "<Figure size 576x432 with 1 Axes>"
      ]
     },
     "metadata": {
      "needs_background": "light"
     },
     "output_type": "display_data"
    }
   ],
   "source": [
    "plt.figure(figsize=(8,6))\n",
    "plt.scatter(DF['Bid Size'], DF['Ask Size'], s = 0.5)\n",
    "plt.show()"
   ]
  },
  {
   "cell_type": "code",
   "execution_count": 6,
   "metadata": {},
   "outputs": [
    {
     "data": {
      "text/html": [
       "<div>\n",
       "<style scoped>\n",
       "    .dataframe tbody tr th:only-of-type {\n",
       "        vertical-align: middle;\n",
       "    }\n",
       "\n",
       "    .dataframe tbody tr th {\n",
       "        vertical-align: top;\n",
       "    }\n",
       "\n",
       "    .dataframe thead th {\n",
       "        text-align: right;\n",
       "    }\n",
       "</style>\n",
       "<table border=\"1\" class=\"dataframe\">\n",
       "  <thead>\n",
       "    <tr style=\"text-align: right;\">\n",
       "      <th></th>\n",
       "      <th>Bid Size</th>\n",
       "      <th>Ask Size</th>\n",
       "    </tr>\n",
       "  </thead>\n",
       "  <tbody>\n",
       "    <tr>\n",
       "      <th>Bid Size</th>\n",
       "      <td>1.000000</td>\n",
       "      <td>0.072139</td>\n",
       "    </tr>\n",
       "    <tr>\n",
       "      <th>Ask Size</th>\n",
       "      <td>0.072139</td>\n",
       "      <td>1.000000</td>\n",
       "    </tr>\n",
       "  </tbody>\n",
       "</table>\n",
       "</div>"
      ],
      "text/plain": [
       "          Bid Size  Ask Size\n",
       "Bid Size  1.000000  0.072139\n",
       "Ask Size  0.072139  1.000000"
      ]
     },
     "execution_count": 6,
     "metadata": {},
     "output_type": "execute_result"
    }
   ],
   "source": [
    "DF[['Bid Size','Ask Size']].corr()"
   ]
  },
  {
   "cell_type": "code",
   "execution_count": 7,
   "metadata": {
    "scrolled": true
   },
   "outputs": [
    {
     "data": {
      "text/html": [
       "<div>\n",
       "<style scoped>\n",
       "    .dataframe tbody tr th:only-of-type {\n",
       "        vertical-align: middle;\n",
       "    }\n",
       "\n",
       "    .dataframe tbody tr th {\n",
       "        vertical-align: top;\n",
       "    }\n",
       "\n",
       "    .dataframe thead th {\n",
       "        text-align: right;\n",
       "    }\n",
       "</style>\n",
       "<table border=\"1\" class=\"dataframe\">\n",
       "  <thead>\n",
       "    <tr style=\"text-align: right;\">\n",
       "      <th></th>\n",
       "      <th>OI</th>\n",
       "      <th>dM</th>\n",
       "    </tr>\n",
       "  </thead>\n",
       "  <tbody>\n",
       "    <tr>\n",
       "      <th>OI</th>\n",
       "      <td>1.000000</td>\n",
       "      <td>0.370183</td>\n",
       "    </tr>\n",
       "    <tr>\n",
       "      <th>dM</th>\n",
       "      <td>0.370183</td>\n",
       "      <td>1.000000</td>\n",
       "    </tr>\n",
       "  </tbody>\n",
       "</table>\n",
       "</div>"
      ],
      "text/plain": [
       "          OI        dM\n",
       "OI  1.000000  0.370183\n",
       "dM  0.370183  1.000000"
      ]
     },
     "execution_count": 7,
     "metadata": {},
     "output_type": "execute_result"
    }
   ],
   "source": [
    "DF[['OI', 'dM']].corr()\n",
    "# want to have positive correlation for the strategy to work\n",
    "# but now we only care about classification"
   ]
  },
  {
   "cell_type": "code",
   "execution_count": 8,
   "metadata": {},
   "outputs": [],
   "source": [
    "from sklearn.linear_model import LinearRegression\n",
    "from sklearn.metrics import r2_score"
   ]
  },
  {
   "cell_type": "code",
   "execution_count": 9,
   "metadata": {
    "scrolled": true
   },
   "outputs": [
    {
     "data": {
      "text/plain": [
       "0.13703548196873983"
      ]
     },
     "execution_count": 9,
     "metadata": {},
     "output_type": "execute_result"
    }
   ],
   "source": [
    "xt = DF['OI'].dropna().values.reshape(-1,1)\n",
    "yt = DF['dM'].dropna().values\n",
    "lm = LinearRegression().fit(xt,yt)\n",
    "\n",
    "r2_score(yt,lm.predict(xt))"
   ]
  },
  {
   "cell_type": "code",
   "execution_count": 10,
   "metadata": {},
   "outputs": [
    {
     "data": {
      "text/plain": [
       " 0.0    0.616582\n",
       " 1.0    0.195653\n",
       "-1.0    0.187766\n",
       "Name: signal, dtype: float64"
      ]
     },
     "execution_count": 10,
     "metadata": {},
     "output_type": "execute_result"
    }
   ],
   "source": [
    "DF[DF['Date'] =='01/02/2019']['signal'].value_counts()/DF[DF['Date'] =='01/02/2019']['signal'].value_counts().sum()"
   ]
  },
  {
   "cell_type": "code",
   "execution_count": 35,
   "metadata": {},
   "outputs": [
    {
     "data": {
      "image/png": "[encoded data removed]",
      "text/plain": [
       "<Figure size 432x288 with 1 Axes>"
      ]
     },
     "metadata": {
      "needs_background": "light"
     },
     "output_type": "display_data"
    }
   ],
   "source": [
    "plt.scatter(DF[['OI','dM']].dropna().values[:,0],\n",
    "           DF[['OI','dM']].dropna().values[:,1])\n",
    "plt.show()"
   ]
  },
  {
   "cell_type": "code",
   "execution_count": 40,
   "metadata": {},
   "outputs": [
    {
     "data": {
      "text/html": [
       "<div>\n",
       "<style scoped>\n",
       "    .dataframe tbody tr th:only-of-type {\n",
       "        vertical-align: middle;\n",
       "    }\n",
       "\n",
       "    .dataframe tbody tr th {\n",
       "        vertical-align: top;\n",
       "    }\n",
       "\n",
       "    .dataframe thead th {\n",
       "        text-align: right;\n",
       "    }\n",
       "</style>\n",
       "<table border=\"1\" class=\"dataframe\">\n",
       "  <thead>\n",
       "    <tr style=\"text-align: right;\">\n",
       "      <th></th>\n",
       "      <th>Date</th>\n",
       "      <th>msecs</th>\n",
       "      <th>Time</th>\n",
       "      <th>Bid Price</th>\n",
       "      <th>Bid Size</th>\n",
       "      <th>Ask Price</th>\n",
       "      <th>Ask Size</th>\n",
       "      <th>Mid</th>\n",
       "      <th>dM</th>\n",
       "      <th>dM_20ma</th>\n",
       "      <th>signal</th>\n",
       "      <th>B eq ind</th>\n",
       "      <th>B &gt; ind</th>\n",
       "      <th>A eq ind</th>\n",
       "      <th>A &lt; ind</th>\n",
       "      <th>dVB</th>\n",
       "      <th>dVA</th>\n",
       "      <th>OI</th>\n",
       "      <th>OI_a1</th>\n",
       "    </tr>\n",
       "  </thead>\n",
       "  <tbody>\n",
       "    <tr>\n",
       "      <th>0</th>\n",
       "      <td>01/02/2019</td>\n",
       "      <td>34500000.0</td>\n",
       "      <td></td>\n",
       "      <td>NaN</td>\n",
       "      <td>NaN</td>\n",
       "      <td>NaN</td>\n",
       "      <td>NaN</td>\n",
       "      <td>NaN</td>\n",
       "      <td>NaN</td>\n",
       "      <td>0.0</td>\n",
       "      <td>0.0</td>\n",
       "      <td>False</td>\n",
       "      <td>False</td>\n",
       "      <td>False</td>\n",
       "      <td>False</td>\n",
       "      <td>NaN</td>\n",
       "      <td>NaN</td>\n",
       "      <td>NaN</td>\n",
       "      <td>NaN</td>\n",
       "    </tr>\n",
       "    <tr>\n",
       "      <th>1</th>\n",
       "      <td>01/02/2019</td>\n",
       "      <td>34500500.0</td>\n",
       "      <td>09:35:00.355</td>\n",
       "      <td>2486.5</td>\n",
       "      <td>2.0</td>\n",
       "      <td>2487.25</td>\n",
       "      <td>2.0</td>\n",
       "      <td>2486.875</td>\n",
       "      <td>NaN</td>\n",
       "      <td>0.0</td>\n",
       "      <td>0.0</td>\n",
       "      <td>False</td>\n",
       "      <td>False</td>\n",
       "      <td>False</td>\n",
       "      <td>False</td>\n",
       "      <td>NaN</td>\n",
       "      <td>NaN</td>\n",
       "      <td>NaN</td>\n",
       "      <td>NaN</td>\n",
       "    </tr>\n",
       "    <tr>\n",
       "      <th>2</th>\n",
       "      <td>01/02/2019</td>\n",
       "      <td>34501000.0</td>\n",
       "      <td></td>\n",
       "      <td>2486.5</td>\n",
       "      <td>2.0</td>\n",
       "      <td>2487.25</td>\n",
       "      <td>2.0</td>\n",
       "      <td>2486.875</td>\n",
       "      <td>0.000</td>\n",
       "      <td>0.0</td>\n",
       "      <td>0.0</td>\n",
       "      <td>True</td>\n",
       "      <td>False</td>\n",
       "      <td>True</td>\n",
       "      <td>False</td>\n",
       "      <td>0.0</td>\n",
       "      <td>0.0</td>\n",
       "      <td>0.0</td>\n",
       "      <td>NaN</td>\n",
       "    </tr>\n",
       "    <tr>\n",
       "      <th>3</th>\n",
       "      <td>01/02/2019</td>\n",
       "      <td>34501500.0</td>\n",
       "      <td></td>\n",
       "      <td>2486.5</td>\n",
       "      <td>2.0</td>\n",
       "      <td>2487.25</td>\n",
       "      <td>2.0</td>\n",
       "      <td>2486.875</td>\n",
       "      <td>0.000</td>\n",
       "      <td>0.0</td>\n",
       "      <td>0.0</td>\n",
       "      <td>True</td>\n",
       "      <td>False</td>\n",
       "      <td>True</td>\n",
       "      <td>False</td>\n",
       "      <td>0.0</td>\n",
       "      <td>0.0</td>\n",
       "      <td>0.0</td>\n",
       "      <td>0.0</td>\n",
       "    </tr>\n",
       "    <tr>\n",
       "      <th>4</th>\n",
       "      <td>01/02/2019</td>\n",
       "      <td>34502000.0</td>\n",
       "      <td>09:35:02.223</td>\n",
       "      <td>2486.5</td>\n",
       "      <td>1.0</td>\n",
       "      <td>2487.00</td>\n",
       "      <td>1.0</td>\n",
       "      <td>2486.750</td>\n",
       "      <td>-0.125</td>\n",
       "      <td>0.0</td>\n",
       "      <td>0.0</td>\n",
       "      <td>True</td>\n",
       "      <td>False</td>\n",
       "      <td>False</td>\n",
       "      <td>True</td>\n",
       "      <td>-1.0</td>\n",
       "      <td>1.0</td>\n",
       "      <td>-2.0</td>\n",
       "      <td>0.0</td>\n",
       "    </tr>\n",
       "  </tbody>\n",
       "</table>\n",
       "</div>"
      ],
      "text/plain": [
       "         Date       msecs          Time  Bid Price  Bid Size  Ask Price  \\\n",
       "0  01/02/2019  34500000.0                      NaN       NaN        NaN   \n",
       "1  01/02/2019  34500500.0  09:35:00.355     2486.5       2.0    2487.25   \n",
       "2  01/02/2019  34501000.0                   2486.5       2.0    2487.25   \n",
       "3  01/02/2019  34501500.0                   2486.5       2.0    2487.25   \n",
       "4  01/02/2019  34502000.0  09:35:02.223     2486.5       1.0    2487.00   \n",
       "\n",
       "   Ask Size       Mid     dM  dM_20ma  signal  B eq ind  B > ind  A eq ind  \\\n",
       "0       NaN       NaN    NaN      0.0     0.0     False    False     False   \n",
       "1       2.0  2486.875    NaN      0.0     0.0     False    False     False   \n",
       "2       2.0  2486.875  0.000      0.0     0.0      True    False      True   \n",
       "3       2.0  2486.875  0.000      0.0     0.0      True    False      True   \n",
       "4       1.0  2486.750 -0.125      0.0     0.0      True    False     False   \n",
       "\n",
       "   A < ind  dVB  dVA   OI  OI_a1  \n",
       "0    False  NaN  NaN  NaN    NaN  \n",
       "1    False  NaN  NaN  NaN    NaN  \n",
       "2    False  0.0  0.0  0.0    NaN  \n",
       "3    False  0.0  0.0  0.0    0.0  \n",
       "4     True -1.0  1.0 -2.0    0.0  "
      ]
     },
     "execution_count": 40,
     "metadata": {},
     "output_type": "execute_result"
    }
   ],
   "source": [
    "df = DF[['OI','Bid Price','Bid Size','Ask Size','Ask Price','Mid']]\n",
    "DF.iloc[:,:-12].head()"
   ]
  },
  {
   "cell_type": "markdown",
   "metadata": {},
   "source": [
    "# Experimenting with SVM"
   ]
  },
  {
   "cell_type": "code",
   "execution_count": 11,
   "metadata": {},
   "outputs": [
    {
     "data": {
      "text/plain": [
       "array(['01/02/2019', '01/03/2019', '01/04/2019', '01/06/2019',\n",
       "       '01/07/2019', '01/08/2019', '01/09/2019', '01/10/2019',\n",
       "       '01/11/2019', '01/13/2019', '01/14/2019', '01/15/2019',\n",
       "       '01/16/2019', '01/17/2019', '01/18/2019', '01/20/2019',\n",
       "       '01/21/2019', '01/22/2019', '01/23/2019', '01/24/2019',\n",
       "       '01/25/2019', '01/27/2019', '01/28/2019', '01/29/2019',\n",
       "       '01/30/2019', '01/31/2019', '02/01/2019', '02/03/2019',\n",
       "       '02/04/2019', '02/05/2019', '02/06/2019', '02/07/2019',\n",
       "       '02/08/2019', '02/10/2019', '02/11/2019', '02/12/2019',\n",
       "       '02/13/2019', '02/14/2019', '02/15/2019', '02/17/2019',\n",
       "       '02/18/2019', '02/19/2019', '02/20/2019', '02/21/2019',\n",
       "       '02/22/2019', '02/24/2019', '02/25/2019', '02/26/2019',\n",
       "       '02/27/2019', '02/28/2019'], dtype=object)"
      ]
     },
     "execution_count": 11,
     "metadata": {},
     "output_type": "execute_result"
    }
   ],
   "source": [
    "np.unique(DF['Date'])"
   ]
  },
  {
   "cell_type": "code",
   "execution_count": 12,
   "metadata": {},
   "outputs": [],
   "source": [
    "train_0102 = DF[DF['Date'] == '01/02/2019'] # first day of data\n",
    "train_0103 = DF[DF['Date'] == '01/03/2019'] # second day...\n",
    "train_0104 = DF[DF['Date'] == '01/04/2019']"
   ]
  },
  {
   "cell_type": "code",
   "execution_count": 13,
   "metadata": {},
   "outputs": [
    {
     "data": {
      "text/html": [
       "<div>\n",
       "<style scoped>\n",
       "    .dataframe tbody tr th:only-of-type {\n",
       "        vertical-align: middle;\n",
       "    }\n",
       "\n",
       "    .dataframe tbody tr th {\n",
       "        vertical-align: top;\n",
       "    }\n",
       "\n",
       "    .dataframe thead th {\n",
       "        text-align: right;\n",
       "    }\n",
       "</style>\n",
       "<table border=\"1\" class=\"dataframe\">\n",
       "  <thead>\n",
       "    <tr style=\"text-align: right;\">\n",
       "      <th></th>\n",
       "      <th>Date</th>\n",
       "      <th>msecs</th>\n",
       "      <th>Time</th>\n",
       "      <th>Bid Price</th>\n",
       "      <th>Bid Size</th>\n",
       "      <th>Ask Price</th>\n",
       "      <th>Ask Size</th>\n",
       "      <th>Mid</th>\n",
       "      <th>dM</th>\n",
       "      <th>dM_20ma</th>\n",
       "      <th>...</th>\n",
       "      <th>OI_a4</th>\n",
       "      <th>OI_a5</th>\n",
       "      <th>OI_5ma</th>\n",
       "      <th>OI_10ma</th>\n",
       "      <th>OI_20ma</th>\n",
       "      <th>M_20ma</th>\n",
       "      <th>M_20fma</th>\n",
       "      <th>M_10fma</th>\n",
       "      <th>signal2</th>\n",
       "      <th>OI Ratio</th>\n",
       "    </tr>\n",
       "  </thead>\n",
       "  <tbody>\n",
       "    <tr>\n",
       "      <th>0</th>\n",
       "      <td>01/02/2019</td>\n",
       "      <td>34500000.0</td>\n",
       "      <td></td>\n",
       "      <td>NaN</td>\n",
       "      <td>NaN</td>\n",
       "      <td>NaN</td>\n",
       "      <td>NaN</td>\n",
       "      <td>NaN</td>\n",
       "      <td>NaN</td>\n",
       "      <td>0.0</td>\n",
       "      <td>...</td>\n",
       "      <td>NaN</td>\n",
       "      <td>NaN</td>\n",
       "      <td>NaN</td>\n",
       "      <td>NaN</td>\n",
       "      <td>NaN</td>\n",
       "      <td>NaN</td>\n",
       "      <td>NaN</td>\n",
       "      <td>NaN</td>\n",
       "      <td>0.0</td>\n",
       "      <td>NaN</td>\n",
       "    </tr>\n",
       "    <tr>\n",
       "      <th>1</th>\n",
       "      <td>01/02/2019</td>\n",
       "      <td>34500500.0</td>\n",
       "      <td>09:35:00.355</td>\n",
       "      <td>2486.5</td>\n",
       "      <td>2.0</td>\n",
       "      <td>2487.25</td>\n",
       "      <td>2.0</td>\n",
       "      <td>2486.875</td>\n",
       "      <td>NaN</td>\n",
       "      <td>0.0</td>\n",
       "      <td>...</td>\n",
       "      <td>NaN</td>\n",
       "      <td>NaN</td>\n",
       "      <td>NaN</td>\n",
       "      <td>NaN</td>\n",
       "      <td>NaN</td>\n",
       "      <td>NaN</td>\n",
       "      <td>NaN</td>\n",
       "      <td>NaN</td>\n",
       "      <td>0.0</td>\n",
       "      <td>0.0</td>\n",
       "    </tr>\n",
       "    <tr>\n",
       "      <th>2</th>\n",
       "      <td>01/02/2019</td>\n",
       "      <td>34501000.0</td>\n",
       "      <td></td>\n",
       "      <td>2486.5</td>\n",
       "      <td>2.0</td>\n",
       "      <td>2487.25</td>\n",
       "      <td>2.0</td>\n",
       "      <td>2486.875</td>\n",
       "      <td>0.000</td>\n",
       "      <td>0.0</td>\n",
       "      <td>...</td>\n",
       "      <td>NaN</td>\n",
       "      <td>NaN</td>\n",
       "      <td>NaN</td>\n",
       "      <td>NaN</td>\n",
       "      <td>NaN</td>\n",
       "      <td>NaN</td>\n",
       "      <td>NaN</td>\n",
       "      <td>NaN</td>\n",
       "      <td>0.0</td>\n",
       "      <td>0.0</td>\n",
       "    </tr>\n",
       "    <tr>\n",
       "      <th>3</th>\n",
       "      <td>01/02/2019</td>\n",
       "      <td>34501500.0</td>\n",
       "      <td></td>\n",
       "      <td>2486.5</td>\n",
       "      <td>2.0</td>\n",
       "      <td>2487.25</td>\n",
       "      <td>2.0</td>\n",
       "      <td>2486.875</td>\n",
       "      <td>0.000</td>\n",
       "      <td>0.0</td>\n",
       "      <td>...</td>\n",
       "      <td>NaN</td>\n",
       "      <td>NaN</td>\n",
       "      <td>NaN</td>\n",
       "      <td>NaN</td>\n",
       "      <td>NaN</td>\n",
       "      <td>NaN</td>\n",
       "      <td>NaN</td>\n",
       "      <td>NaN</td>\n",
       "      <td>0.0</td>\n",
       "      <td>0.0</td>\n",
       "    </tr>\n",
       "    <tr>\n",
       "      <th>4</th>\n",
       "      <td>01/02/2019</td>\n",
       "      <td>34502000.0</td>\n",
       "      <td>09:35:02.223</td>\n",
       "      <td>2486.5</td>\n",
       "      <td>1.0</td>\n",
       "      <td>2487.00</td>\n",
       "      <td>1.0</td>\n",
       "      <td>2486.750</td>\n",
       "      <td>-0.125</td>\n",
       "      <td>0.0</td>\n",
       "      <td>...</td>\n",
       "      <td>NaN</td>\n",
       "      <td>NaN</td>\n",
       "      <td>NaN</td>\n",
       "      <td>NaN</td>\n",
       "      <td>NaN</td>\n",
       "      <td>NaN</td>\n",
       "      <td>NaN</td>\n",
       "      <td>NaN</td>\n",
       "      <td>0.0</td>\n",
       "      <td>0.0</td>\n",
       "    </tr>\n",
       "  </tbody>\n",
       "</table>\n",
       "<p>5 rows × 31 columns</p>\n",
       "</div>"
      ],
      "text/plain": [
       "         Date       msecs          Time  Bid Price  Bid Size  Ask Price  \\\n",
       "0  01/02/2019  34500000.0                      NaN       NaN        NaN   \n",
       "1  01/02/2019  34500500.0  09:35:00.355     2486.5       2.0    2487.25   \n",
       "2  01/02/2019  34501000.0                   2486.5       2.0    2487.25   \n",
       "3  01/02/2019  34501500.0                   2486.5       2.0    2487.25   \n",
       "4  01/02/2019  34502000.0  09:35:02.223     2486.5       1.0    2487.00   \n",
       "\n",
       "   Ask Size       Mid     dM  dM_20ma    ...     OI_a4  OI_a5  OI_5ma  \\\n",
       "0       NaN       NaN    NaN      0.0    ...       NaN    NaN     NaN   \n",
       "1       2.0  2486.875    NaN      0.0    ...       NaN    NaN     NaN   \n",
       "2       2.0  2486.875  0.000      0.0    ...       NaN    NaN     NaN   \n",
       "3       2.0  2486.875  0.000      0.0    ...       NaN    NaN     NaN   \n",
       "4       1.0  2486.750 -0.125      0.0    ...       NaN    NaN     NaN   \n",
       "\n",
       "   OI_10ma  OI_20ma  M_20ma  M_20fma  M_10fma  signal2  OI Ratio  \n",
       "0      NaN      NaN     NaN      NaN      NaN      0.0       NaN  \n",
       "1      NaN      NaN     NaN      NaN      NaN      0.0       0.0  \n",
       "2      NaN      NaN     NaN      NaN      NaN      0.0       0.0  \n",
       "3      NaN      NaN     NaN      NaN      NaN      0.0       0.0  \n",
       "4      NaN      NaN     NaN      NaN      NaN      0.0       0.0  \n",
       "\n",
       "[5 rows x 31 columns]"
      ]
     },
     "execution_count": 13,
     "metadata": {},
     "output_type": "execute_result"
    }
   ],
   "source": [
    "train_0102.head()"
   ]
  },
  {
   "cell_type": "code",
   "execution_count": 14,
   "metadata": {},
   "outputs": [],
   "source": [
    "# extracting useful columns for training classifier\n",
    "train11 = train_0102[['Mid','signal','signal2','OI', 'OI_a1', 'OI_a2', 'OI_a3','OI_a4','OI_a5','dM','OI Ratio']].copy()\n",
    "train12 = train_0103[['Mid','signal','signal2','OI', 'OI_a1', 'OI_a2', 'OI_a3','OI_a4','OI_a5','dM','OI Ratio']].copy()\n",
    "train13 = train_0104[['Mid','signal','signal2','OI', 'OI_a1', 'OI_a2', 'OI_a3','OI_a4','OI_a5','dM','OI Ratio']].copy()\n",
    "\n",
    "# start when we have all the data (up to lag 5)\n",
    "train11.dropna(inplace=True)\n",
    "train12.dropna(inplace=True)\n",
    "train13.dropna(inplace=True)"
   ]
  },
  {
   "cell_type": "code",
   "execution_count": 15,
   "metadata": {},
   "outputs": [
    {
     "data": {
      "text/plain": [
       "0.6165187585105883"
      ]
     },
     "execution_count": 15,
     "metadata": {},
     "output_type": "execute_result"
    }
   ],
   "source": [
    "(train11['signal'].value_counts()/train11['signal'].value_counts().sum()).max()"
   ]
  },
  {
   "cell_type": "code",
   "execution_count": 16,
   "metadata": {},
   "outputs": [
    {
     "data": {
      "text/plain": [
       "0.4922993848898906"
      ]
     },
     "execution_count": 16,
     "metadata": {},
     "output_type": "execute_result"
    }
   ],
   "source": [
    "(train12['signal'].value_counts()/train12['signal'].value_counts().sum()).max()"
   ]
  },
  {
   "cell_type": "code",
   "execution_count": 17,
   "metadata": {},
   "outputs": [
    {
     "data": {
      "text/plain": [
       "0.6374371977273794"
      ]
     },
     "execution_count": 17,
     "metadata": {},
     "output_type": "execute_result"
    }
   ],
   "source": [
    "(train13['signal'].value_counts()/train13['signal'].value_counts().sum()).max()"
   ]
  },
  {
   "cell_type": "markdown",
   "metadata": {},
   "source": [
    "## SVM Model 1\n",
    "We train an SVM only on first 5 lags\n",
    "\\begin{align}\n",
    "    \\text{signal}_t \\sim \\sum_{i=0}^5 OI_{t-j}\n",
    "\\end{align}"
   ]
  },
  {
   "cell_type": "code",
   "execution_count": 18,
   "metadata": {},
   "outputs": [],
   "source": [
    "from sklearn import svm\n",
    "from sklearn.metrics import confusion_matrix\n",
    "import time"
   ]
  },
  {
   "cell_type": "markdown",
   "metadata": {},
   "source": [
    "### Day 0 to Day 1"
   ]
  },
  {
   "cell_type": "code",
   "execution_count": 19,
   "metadata": {},
   "outputs": [
    {
     "name": "stdout",
     "output_type": "stream",
     "text": [
      "66.67629671096802\n",
      "73.92357134819031\n"
     ]
    }
   ],
   "source": [
    "# increasing C punishes the coefficient vector more --> less variance, more bias\n",
    "start = time.time()\n",
    "\n",
    "svfit01 = svm.SVC(C=1, kernel = 'poly', class_weight = 'balanced').fit(\n",
    "    train11[['OI','OI_a1','OI_a2','OI_a3','OI_a4','OI_a5']].values,\n",
    "    train11['signal'].values)\n",
    "\n",
    "end = time.time()\n",
    "print(end-start)\n",
    "\n",
    "svfit02 = svm.SVC(C=1, kernel = 'poly', class_weight = 'balanced').fit(\n",
    "    train11[['OI','OI_a1','OI_a2','OI_a3','OI_a4','OI_a5']].values,\n",
    "    train11['signal2'].values)\n",
    "\n",
    "print(time.time() - end)"
   ]
  },
  {
   "cell_type": "code",
   "execution_count": 20,
   "metadata": {},
   "outputs": [],
   "source": [
    "# Day 0 \n",
    "preds01 = svfit01.predict(\n",
    "    train11[['OI','OI_a1','OI_a2','OI_a3','OI_a4','OI_a5']].values) # signal 1\n",
    "preds02 = svfit02.predict(\n",
    "    train11[['OI','OI_a1','OI_a2','OI_a3','OI_a4','OI_a5']].values) # signal 2\n",
    "\n",
    "# Day 1\n",
    "preds03 = svfit01.predict(\n",
    "    train12[['OI','OI_a1','OI_a2','OI_a3','OI_a4','OI_a5']].values) # signal 1\n",
    "preds04 = svfit02.predict(\n",
    "    train12[['OI','OI_a1','OI_a2','OI_a3','OI_a4','OI_a5']].values) # signal 2"
   ]
  },
  {
   "cell_type": "code",
   "execution_count": 21,
   "metadata": {},
   "outputs": [
    {
     "data": {
      "text/html": [
       "<div>\n",
       "<style scoped>\n",
       "    .dataframe tbody tr th:only-of-type {\n",
       "        vertical-align: middle;\n",
       "    }\n",
       "\n",
       "    .dataframe tbody tr th {\n",
       "        vertical-align: top;\n",
       "    }\n",
       "\n",
       "    .dataframe thead th {\n",
       "        text-align: right;\n",
       "    }\n",
       "</style>\n",
       "<table border=\"1\" class=\"dataframe\">\n",
       "  <thead>\n",
       "    <tr style=\"text-align: right;\">\n",
       "      <th></th>\n",
       "      <th>Signal 1</th>\n",
       "      <th>Signal 2</th>\n",
       "      <th>Base Rate (Signal 1)</th>\n",
       "      <th>Base Rate (Signal 2)</th>\n",
       "    </tr>\n",
       "  </thead>\n",
       "  <tbody>\n",
       "    <tr>\n",
       "      <th>Training</th>\n",
       "      <td>0.522398</td>\n",
       "      <td>0.599638</td>\n",
       "      <td>0.0    0.616519\n",
       " 1.0    0.195685\n",
       "-1.0    0.18...</td>\n",
       "      <td>0.0    0.616519\n",
       " 1.0    0.195685\n",
       "-1.0    0.18...</td>\n",
       "    </tr>\n",
       "    <tr>\n",
       "      <th>Day 1</th>\n",
       "      <td>0.429802</td>\n",
       "      <td>0.505282</td>\n",
       "      <td>0.0    0.492299\n",
       "-1.0    0.259684\n",
       " 1.0    0.24...</td>\n",
       "      <td>0.0    0.639855\n",
       "-1.0    0.182467\n",
       " 1.0    0.17...</td>\n",
       "    </tr>\n",
       "  </tbody>\n",
       "</table>\n",
       "</div>"
      ],
      "text/plain": [
       "          Signal 1  Signal 2  \\\n",
       "Training  0.522398  0.599638   \n",
       "Day 1     0.429802  0.505282   \n",
       "\n",
       "                                       Base Rate (Signal 1)  \\\n",
       "Training   0.0    0.616519\n",
       " 1.0    0.195685\n",
       "-1.0    0.18...   \n",
       "Day 1      0.0    0.492299\n",
       "-1.0    0.259684\n",
       " 1.0    0.24...   \n",
       "\n",
       "                                       Base Rate (Signal 2)  \n",
       "Training   0.0    0.616519\n",
       " 1.0    0.195685\n",
       "-1.0    0.18...  \n",
       "Day 1      0.0    0.639855\n",
       "-1.0    0.182467\n",
       " 1.0    0.17...  "
      ]
     },
     "execution_count": 21,
     "metadata": {},
     "output_type": "execute_result"
    }
   ],
   "source": [
    "index = ['Training', 'Day 1']\n",
    "pd.DataFrame(\n",
    "    {'Signal 1':[(preds01 == train11['signal'].values).mean(),\n",
    "            (preds03 == train12['signal'].values).mean()],\n",
    "    'Signal 2': [(preds02 == train11['signal2'].values).mean(),\n",
    "            (preds04 == train12['signal2'].values).mean()],\n",
    "    'Base Rate (Signal 1)': [train11['signal'].value_counts()/train11['signal'].value_counts().sum(),\n",
    "       train12['signal'].value_counts()/train12['signal'].value_counts().sum() ],\n",
    "    'Base Rate (Signal 2)': [train11['signal'].value_counts()/train11['signal2'].value_counts().sum(),\n",
    "       train12['signal2'].value_counts()/train12['signal'].value_counts().sum() ]},\n",
    "            index = index)"
   ]
  },
  {
   "cell_type": "code",
   "execution_count": 22,
   "metadata": {},
   "outputs": [
    {
     "data": {
      "text/html": [
       "<div>\n",
       "<style scoped>\n",
       "    .dataframe tbody tr th:only-of-type {\n",
       "        vertical-align: middle;\n",
       "    }\n",
       "\n",
       "    .dataframe tbody tr th {\n",
       "        vertical-align: top;\n",
       "    }\n",
       "\n",
       "    .dataframe thead th {\n",
       "        text-align: right;\n",
       "    }\n",
       "</style>\n",
       "<table border=\"1\" class=\"dataframe\">\n",
       "  <thead>\n",
       "    <tr style=\"text-align: right;\">\n",
       "      <th></th>\n",
       "      <th>signal2</th>\n",
       "      <th>signal</th>\n",
       "    </tr>\n",
       "  </thead>\n",
       "  <tbody>\n",
       "    <tr>\n",
       "      <th>signal2</th>\n",
       "      <td>1.000000</td>\n",
       "      <td>0.714756</td>\n",
       "    </tr>\n",
       "    <tr>\n",
       "      <th>signal</th>\n",
       "      <td>0.714756</td>\n",
       "      <td>1.000000</td>\n",
       "    </tr>\n",
       "  </tbody>\n",
       "</table>\n",
       "</div>"
      ],
      "text/plain": [
       "          signal2    signal\n",
       "signal2  1.000000  0.714756\n",
       "signal   0.714756  1.000000"
      ]
     },
     "execution_count": 22,
     "metadata": {},
     "output_type": "execute_result"
    }
   ],
   "source": [
    "train11[['signal2','signal']].corr()"
   ]
  },
  {
   "cell_type": "code",
   "execution_count": 23,
   "metadata": {},
   "outputs": [
    {
     "data": {
      "text/html": [
       "<div>\n",
       "<style scoped>\n",
       "    .dataframe tbody tr th:only-of-type {\n",
       "        vertical-align: middle;\n",
       "    }\n",
       "\n",
       "    .dataframe tbody tr th {\n",
       "        vertical-align: top;\n",
       "    }\n",
       "\n",
       "    .dataframe thead th {\n",
       "        text-align: right;\n",
       "    }\n",
       "</style>\n",
       "<table border=\"1\" class=\"dataframe\">\n",
       "  <thead>\n",
       "    <tr style=\"text-align: right;\">\n",
       "      <th></th>\n",
       "      <th>-1 (pred)</th>\n",
       "      <th>0 (pred)</th>\n",
       "      <th>1 (pred)</th>\n",
       "    </tr>\n",
       "  </thead>\n",
       "  <tbody>\n",
       "    <tr>\n",
       "      <th>-1 (true)</th>\n",
       "      <td>1530</td>\n",
       "      <td>5192</td>\n",
       "      <td>1277</td>\n",
       "    </tr>\n",
       "    <tr>\n",
       "      <th>0 (true)</th>\n",
       "      <td>3472</td>\n",
       "      <td>18936</td>\n",
       "      <td>3852</td>\n",
       "    </tr>\n",
       "    <tr>\n",
       "      <th>1 (true)</th>\n",
       "      <td>1163</td>\n",
       "      <td>5387</td>\n",
       "      <td>1785</td>\n",
       "    </tr>\n",
       "  </tbody>\n",
       "</table>\n",
       "</div>"
      ],
      "text/plain": [
       "           -1 (pred)  0 (pred)  1 (pred)\n",
       "-1 (true)       1530      5192      1277\n",
       "0 (true)        3472     18936      3852\n",
       "1 (true)        1163      5387      1785"
      ]
     },
     "execution_count": 23,
     "metadata": {},
     "output_type": "execute_result"
    }
   ],
   "source": [
    "pd.DataFrame(confusion_matrix(train11['signal'], preds01),\n",
    "             index = ['-1 (true)','0 (true)','1 (true)'],\n",
    "            columns = ['-1 (pred)','0 (pred)','1 (pred)'])"
   ]
  },
  {
   "cell_type": "code",
   "execution_count": 24,
   "metadata": {},
   "outputs": [
    {
     "data": {
      "text/html": [
       "<div>\n",
       "<style scoped>\n",
       "    .dataframe tbody tr th:only-of-type {\n",
       "        vertical-align: middle;\n",
       "    }\n",
       "\n",
       "    .dataframe tbody tr th {\n",
       "        vertical-align: top;\n",
       "    }\n",
       "\n",
       "    .dataframe thead th {\n",
       "        text-align: right;\n",
       "    }\n",
       "</style>\n",
       "<table border=\"1\" class=\"dataframe\">\n",
       "  <thead>\n",
       "    <tr style=\"text-align: right;\">\n",
       "      <th></th>\n",
       "      <th>-1 (pred)</th>\n",
       "      <th>0 (pred)</th>\n",
       "      <th>1 (pred)</th>\n",
       "    </tr>\n",
       "  </thead>\n",
       "  <tbody>\n",
       "    <tr>\n",
       "      <th>-1 (true)</th>\n",
       "      <td>2154</td>\n",
       "      <td>6846</td>\n",
       "      <td>2061</td>\n",
       "    </tr>\n",
       "    <tr>\n",
       "      <th>0 (true)</th>\n",
       "      <td>3561</td>\n",
       "      <td>13834</td>\n",
       "      <td>3574</td>\n",
       "    </tr>\n",
       "    <tr>\n",
       "      <th>1 (true)</th>\n",
       "      <td>1783</td>\n",
       "      <td>6462</td>\n",
       "      <td>2319</td>\n",
       "    </tr>\n",
       "  </tbody>\n",
       "</table>\n",
       "</div>"
      ],
      "text/plain": [
       "           -1 (pred)  0 (pred)  1 (pred)\n",
       "-1 (true)       2154      6846      2061\n",
       "0 (true)        3561     13834      3574\n",
       "1 (true)        1783      6462      2319"
      ]
     },
     "execution_count": 24,
     "metadata": {},
     "output_type": "execute_result"
    }
   ],
   "source": [
    "pd.DataFrame(confusion_matrix(train12['signal'], preds03),\n",
    "             index = ['-1 (true)','0 (true)','1 (true)'],\n",
    "            columns = ['-1 (pred)','0 (pred)','1 (pred)'])"
   ]
  },
  {
   "cell_type": "code",
   "execution_count": 25,
   "metadata": {},
   "outputs": [
    {
     "data": {
      "text/html": [
       "<div>\n",
       "<style scoped>\n",
       "    .dataframe tbody tr th:only-of-type {\n",
       "        vertical-align: middle;\n",
       "    }\n",
       "\n",
       "    .dataframe tbody tr th {\n",
       "        vertical-align: top;\n",
       "    }\n",
       "\n",
       "    .dataframe thead th {\n",
       "        text-align: right;\n",
       "    }\n",
       "</style>\n",
       "<table border=\"1\" class=\"dataframe\">\n",
       "  <thead>\n",
       "    <tr style=\"text-align: right;\">\n",
       "      <th></th>\n",
       "      <th>-1 (pred)</th>\n",
       "      <th>0 (pred)</th>\n",
       "      <th>1 (pred)</th>\n",
       "    </tr>\n",
       "  </thead>\n",
       "  <tbody>\n",
       "    <tr>\n",
       "      <th>-1 (true)</th>\n",
       "      <td>1367</td>\n",
       "      <td>5352</td>\n",
       "      <td>1053</td>\n",
       "    </tr>\n",
       "    <tr>\n",
       "      <th>0 (true)</th>\n",
       "      <td>4261</td>\n",
       "      <td>19711</td>\n",
       "      <td>3282</td>\n",
       "    </tr>\n",
       "    <tr>\n",
       "      <th>1 (true)</th>\n",
       "      <td>1299</td>\n",
       "      <td>5180</td>\n",
       "      <td>1089</td>\n",
       "    </tr>\n",
       "  </tbody>\n",
       "</table>\n",
       "</div>"
      ],
      "text/plain": [
       "           -1 (pred)  0 (pred)  1 (pred)\n",
       "-1 (true)       1367      5352      1053\n",
       "0 (true)        4261     19711      3282\n",
       "1 (true)        1299      5180      1089"
      ]
     },
     "execution_count": 25,
     "metadata": {},
     "output_type": "execute_result"
    }
   ],
   "source": [
    "pd.DataFrame(confusion_matrix(train12['signal2'], preds02),\n",
    "             index = ['-1 (true)','0 (true)','1 (true)'],\n",
    "            columns = ['-1 (pred)','0 (pred)','1 (pred)'])"
   ]
  },
  {
   "cell_type": "code",
   "execution_count": 26,
   "metadata": {
    "scrolled": true
   },
   "outputs": [
    {
     "data": {
      "text/html": [
       "<div>\n",
       "<style scoped>\n",
       "    .dataframe tbody tr th:only-of-type {\n",
       "        vertical-align: middle;\n",
       "    }\n",
       "\n",
       "    .dataframe tbody tr th {\n",
       "        vertical-align: top;\n",
       "    }\n",
       "\n",
       "    .dataframe thead th {\n",
       "        text-align: right;\n",
       "    }\n",
       "</style>\n",
       "<table border=\"1\" class=\"dataframe\">\n",
       "  <thead>\n",
       "    <tr style=\"text-align: right;\">\n",
       "      <th></th>\n",
       "      <th>-1 (pred)</th>\n",
       "      <th>0 (pred)</th>\n",
       "      <th>1 (pred)</th>\n",
       "    </tr>\n",
       "  </thead>\n",
       "  <tbody>\n",
       "    <tr>\n",
       "      <th>-1 (true)</th>\n",
       "      <td>1882</td>\n",
       "      <td>4781</td>\n",
       "      <td>1109</td>\n",
       "    </tr>\n",
       "    <tr>\n",
       "      <th>0 (true)</th>\n",
       "      <td>5386</td>\n",
       "      <td>18138</td>\n",
       "      <td>3730</td>\n",
       "    </tr>\n",
       "    <tr>\n",
       "      <th>1 (true)</th>\n",
       "      <td>1435</td>\n",
       "      <td>4631</td>\n",
       "      <td>1502</td>\n",
       "    </tr>\n",
       "  </tbody>\n",
       "</table>\n",
       "</div>"
      ],
      "text/plain": [
       "           -1 (pred)  0 (pred)  1 (pred)\n",
       "-1 (true)       1882      4781      1109\n",
       "0 (true)        5386     18138      3730\n",
       "1 (true)        1435      4631      1502"
      ]
     },
     "execution_count": 26,
     "metadata": {},
     "output_type": "execute_result"
    }
   ],
   "source": [
    "pd.DataFrame(confusion_matrix(train12['signal2'], preds04),\n",
    "             index = ['-1 (true)','0 (true)','1 (true)'],\n",
    "            columns = ['-1 (pred)','0 (pred)','1 (pred)'])"
   ]
  },
  {
   "cell_type": "markdown",
   "metadata": {},
   "source": [
    "### Day 1 to Day 2"
   ]
  },
  {
   "cell_type": "code",
   "execution_count": 27,
   "metadata": {},
   "outputs": [
    {
     "name": "stdout",
     "output_type": "stream",
     "text": [
      "72.50693082809448\n",
      "77.05386638641357\n"
     ]
    }
   ],
   "source": [
    "start = time.time()\n",
    "svfit11 = svm.SVC(C=1, kernel = 'poly', class_weight = 'balanced').fit(\n",
    "    train12[['OI','OI_a1','OI_a2','OI_a3','OI_a4','OI_a5']].values,\n",
    "    train12['signal'].values)\n",
    "\n",
    "end = time.time()\n",
    "print(end-start)\n",
    "\n",
    "svfit12 = svm.SVC(C=1, kernel = 'poly', class_weight = 'balanced').fit(\n",
    "    train12[['OI','OI_a1','OI_a2','OI_a3','OI_a4','OI_a5']].values,\n",
    "    train12['signal2'].values)\n",
    "\n",
    "start, end = end, time.time()\n",
    "print(end-start)"
   ]
  },
  {
   "cell_type": "code",
   "execution_count": null,
   "metadata": {},
   "outputs": [],
   "source": [
    "# Day 0 \n",
    "preds11 = svfit01.predict(\n",
    "    train12[['OI','OI_a1','OI_a2','OI_a3','OI_a4','OI_a5']].values) # signal 1\n",
    "preds12 = svfit02.predict(\n",
    "    train12[['OI','OI_a1','OI_a2','OI_a3','OI_a4','OI_a5']].values) # signal 2\n",
    "\n",
    "# Day 1\n",
    "preds13 = svfit01.predict(\n",
    "    train13[['OI','OI_a1','OI_a2','OI_a3','OI_a4','OI_a5']].values) # signal 1\n",
    "preds14 = svfit02.predict(\n",
    "    train13[['OI','OI_a1','OI_a2','OI_a3','OI_a4','OI_a5']].values) # signal 2"
   ]
  },
  {
   "cell_type": "code",
   "execution_count": null,
   "metadata": {},
   "outputs": [],
   "source": []
  }
 ],
 "metadata": {
  "kernelspec": {
   "display_name": "Python 3",
   "language": "python",
   "name": "python3"
  },
  "language_info": {
   "codemirror_mode": {
    "name": "ipython",
    "version": 3
   },
   "file_extension": ".py",
   "mimetype": "text/x-python",
   "name": "python",
   "nbconvert_exporter": "python",
   "pygments_lexer": "ipython3",
   "version": "3.7.0"
  }
 },
 "nbformat": 4,
 "nbformat_minor": 2
}
