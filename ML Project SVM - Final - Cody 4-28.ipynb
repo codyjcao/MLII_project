{
 "cells": [
  {
   "cell_type": "code",
   "execution_count": 1,
   "metadata": {},
   "outputs": [],
   "source": [
    "import numpy as np\n",
    "import pandas as pd\n",
    "import time\n",
    "import matplotlib.pyplot as plt\n",
    "from tqdm import tqdm\n",
    "from datetime import datetime\n",
    "from sklearn import svm\n",
    "from sklearn.metrics import confusion_matrix\n",
    "from sklearn.preprocessing import normalize\n",
    "\n",
    "\n",
    "\n",
    "def my_loss_fn(ytruetest, ytruetrain, ypredtest, ypredtrain):\n",
    "    loss = np.array([[0,1,2],[1,0,1],[2,1,0]])\n",
    "    days = len(ytruetest)\n",
    "    losstrain = np.zeros(days)\n",
    "    losstest = np.zeros(days)\n",
    "    acctrain = np.zeros(days)\n",
    "    acctest = np.zeros(days)\n",
    "    acctrain1 = np.zeros(days)\n",
    "    acctest1 = np.zeros(days)\n",
    "    \n",
    "    for i in range(days):\n",
    "        conftrain = confusion_matrix(ytruetrain[i], ypredtrain[i])\n",
    "        acctrain[i] = (conftrain[0,0] + conftrain[2,2])/np.sum(conftrain[0] + conftrain[2])\n",
    "        acctrain1[i] = (conftrain[0,0] + conftrain[2,2])/np.sum(\n",
    "            conftrain[0,0] + conftrain[0,2] + conftrain[2,0] + conftrain[2,2])\n",
    "        losstrain[i] = np.sum(conftrain * loss)\n",
    "        \n",
    "        conftest = confusion_matrix(ytruetest[i], ypredtest[i])\n",
    "        acctest[i] = ((conftest[0,0] + conftest[2,2])/\n",
    "                      np.sum(conftest[0] + conftest[2]))\n",
    "        acctest1[i] = (conftest[0,0] + conftest[2,2])/np.sum(\n",
    "            conftest[0,0] + conftest[0,2] + conftest[2,0] + conftest[2,2])\n",
    "        losstest[i] = np.sum(conftest * loss)\n",
    "    \n",
    "    ind = [('Day ' + str(i+1))for i in range(days)]\n",
    "    col = ['Loss Train','Loss Test','Accuracy Train 1',\n",
    "           'Accuracy Train 2','Accuracy Test 1',\n",
    "           'Accuracy Test 2']\n",
    "    retv = zip(col,(losstrain, losstest, acctrain, acctrain1, acctest, acctest1))\n",
    "    return pd.DataFrame(dict(retv),index=ind)"
   ]
  },
  {
   "cell_type": "markdown",
   "metadata": {},
   "source": [
    "# Loading in Data"
   ]
  },
  {
   "cell_type": "code",
   "execution_count": 2,
   "metadata": {},
   "outputs": [
    {
     "name": "stderr",
     "output_type": "stream",
     "text": [
      "D:\\Programs\\Anaconda\\lib\\site-packages\\numpy\\lib\\arraysetops.py:569: FutureWarning: elementwise comparison failed; returning scalar instead, but in the future will perform elementwise comparison\n",
      "  mask |= (ar1 == a)\n"
     ]
    }
   ],
   "source": [
    "DF = pd.read_csv('ESH2019_final.csv',\n",
    "                 index_col = 0,\n",
    "                 dtype={'Time':str})"
   ]
  },
  {
   "cell_type": "code",
   "execution_count": 3,
   "metadata": {},
   "outputs": [
    {
     "data": {
      "text/html": [
       "<div>\n",
       "<style scoped>\n",
       "    .dataframe tbody tr th:only-of-type {\n",
       "        vertical-align: middle;\n",
       "    }\n",
       "\n",
       "    .dataframe tbody tr th {\n",
       "        vertical-align: top;\n",
       "    }\n",
       "\n",
       "    .dataframe thead th {\n",
       "        text-align: right;\n",
       "    }\n",
       "</style>\n",
       "<table border=\"1\" class=\"dataframe\">\n",
       "  <thead>\n",
       "    <tr style=\"text-align: right;\">\n",
       "      <th></th>\n",
       "      <th>Date</th>\n",
       "      <th>msecs</th>\n",
       "      <th>Time</th>\n",
       "      <th>Bid Price</th>\n",
       "      <th>Bid Size</th>\n",
       "      <th>Ask Price</th>\n",
       "      <th>Ask Size</th>\n",
       "      <th>Mid</th>\n",
       "      <th>dM</th>\n",
       "      <th>M_10ma</th>\n",
       "      <th>...</th>\n",
       "      <th>OI</th>\n",
       "      <th>OI_a1</th>\n",
       "      <th>OI_a2</th>\n",
       "      <th>OI_a3</th>\n",
       "      <th>OI_a4</th>\n",
       "      <th>OI_a5</th>\n",
       "      <th>OI_5ma</th>\n",
       "      <th>OI_10ma</th>\n",
       "      <th>OI_20ma</th>\n",
       "      <th>OI Ratio</th>\n",
       "    </tr>\n",
       "  </thead>\n",
       "  <tbody>\n",
       "    <tr>\n",
       "      <th>0</th>\n",
       "      <td>01/02/2019</td>\n",
       "      <td>28800000.0</td>\n",
       "      <td>07:59:59.757</td>\n",
       "      <td>2467.50</td>\n",
       "      <td>9.0</td>\n",
       "      <td>2467.75</td>\n",
       "      <td>36.0</td>\n",
       "      <td>2467.625</td>\n",
       "      <td>NaN</td>\n",
       "      <td>NaN</td>\n",
       "      <td>...</td>\n",
       "      <td>NaN</td>\n",
       "      <td>NaN</td>\n",
       "      <td>NaN</td>\n",
       "      <td>NaN</td>\n",
       "      <td>NaN</td>\n",
       "      <td>NaN</td>\n",
       "      <td>NaN</td>\n",
       "      <td>NaN</td>\n",
       "      <td>NaN</td>\n",
       "      <td>-0.600000</td>\n",
       "    </tr>\n",
       "    <tr>\n",
       "      <th>1</th>\n",
       "      <td>01/02/2019</td>\n",
       "      <td>28800500.0</td>\n",
       "      <td>08:00:00.305</td>\n",
       "      <td>2467.25</td>\n",
       "      <td>36.0</td>\n",
       "      <td>2467.50</td>\n",
       "      <td>19.0</td>\n",
       "      <td>2467.375</td>\n",
       "      <td>-0.25</td>\n",
       "      <td>NaN</td>\n",
       "      <td>...</td>\n",
       "      <td>-19.0</td>\n",
       "      <td>NaN</td>\n",
       "      <td>NaN</td>\n",
       "      <td>NaN</td>\n",
       "      <td>NaN</td>\n",
       "      <td>NaN</td>\n",
       "      <td>NaN</td>\n",
       "      <td>NaN</td>\n",
       "      <td>NaN</td>\n",
       "      <td>0.309091</td>\n",
       "    </tr>\n",
       "    <tr>\n",
       "      <th>2</th>\n",
       "      <td>01/02/2019</td>\n",
       "      <td>28801000.0</td>\n",
       "      <td>08:00:00.826</td>\n",
       "      <td>2467.25</td>\n",
       "      <td>42.0</td>\n",
       "      <td>2467.50</td>\n",
       "      <td>3.0</td>\n",
       "      <td>2467.375</td>\n",
       "      <td>0.00</td>\n",
       "      <td>NaN</td>\n",
       "      <td>...</td>\n",
       "      <td>22.0</td>\n",
       "      <td>-19.0</td>\n",
       "      <td>NaN</td>\n",
       "      <td>NaN</td>\n",
       "      <td>NaN</td>\n",
       "      <td>NaN</td>\n",
       "      <td>NaN</td>\n",
       "      <td>NaN</td>\n",
       "      <td>NaN</td>\n",
       "      <td>0.866667</td>\n",
       "    </tr>\n",
       "    <tr>\n",
       "      <th>3</th>\n",
       "      <td>01/02/2019</td>\n",
       "      <td>28801500.0</td>\n",
       "      <td>08:00:01.349</td>\n",
       "      <td>2467.25</td>\n",
       "      <td>29.0</td>\n",
       "      <td>2467.50</td>\n",
       "      <td>30.0</td>\n",
       "      <td>2467.375</td>\n",
       "      <td>0.00</td>\n",
       "      <td>NaN</td>\n",
       "      <td>...</td>\n",
       "      <td>-40.0</td>\n",
       "      <td>22.0</td>\n",
       "      <td>-19.0</td>\n",
       "      <td>NaN</td>\n",
       "      <td>NaN</td>\n",
       "      <td>NaN</td>\n",
       "      <td>NaN</td>\n",
       "      <td>NaN</td>\n",
       "      <td>NaN</td>\n",
       "      <td>-0.016949</td>\n",
       "    </tr>\n",
       "    <tr>\n",
       "      <th>4</th>\n",
       "      <td>01/02/2019</td>\n",
       "      <td>28802000.0</td>\n",
       "      <td>08:00:01.761</td>\n",
       "      <td>2467.25</td>\n",
       "      <td>42.0</td>\n",
       "      <td>2467.50</td>\n",
       "      <td>22.0</td>\n",
       "      <td>2467.375</td>\n",
       "      <td>0.00</td>\n",
       "      <td>NaN</td>\n",
       "      <td>...</td>\n",
       "      <td>21.0</td>\n",
       "      <td>-40.0</td>\n",
       "      <td>22.0</td>\n",
       "      <td>-19.0</td>\n",
       "      <td>NaN</td>\n",
       "      <td>NaN</td>\n",
       "      <td>NaN</td>\n",
       "      <td>NaN</td>\n",
       "      <td>NaN</td>\n",
       "      <td>0.312500</td>\n",
       "    </tr>\n",
       "  </tbody>\n",
       "</table>\n",
       "<p>5 rows × 35 columns</p>\n",
       "</div>"
      ],
      "text/plain": [
       "         Date       msecs          Time  Bid Price  Bid Size  Ask Price  \\\n",
       "0  01/02/2019  28800000.0  07:59:59.757    2467.50       9.0    2467.75   \n",
       "1  01/02/2019  28800500.0  08:00:00.305    2467.25      36.0    2467.50   \n",
       "2  01/02/2019  28801000.0  08:00:00.826    2467.25      42.0    2467.50   \n",
       "3  01/02/2019  28801500.0  08:00:01.349    2467.25      29.0    2467.50   \n",
       "4  01/02/2019  28802000.0  08:00:01.761    2467.25      42.0    2467.50   \n",
       "\n",
       "   Ask Size       Mid    dM  M_10ma  ...    OI  OI_a1  OI_a2  OI_a3  OI_a4  \\\n",
       "0      36.0  2467.625   NaN     NaN  ...   NaN    NaN    NaN    NaN    NaN   \n",
       "1      19.0  2467.375 -0.25     NaN  ... -19.0    NaN    NaN    NaN    NaN   \n",
       "2       3.0  2467.375  0.00     NaN  ...  22.0  -19.0    NaN    NaN    NaN   \n",
       "3      30.0  2467.375  0.00     NaN  ... -40.0   22.0  -19.0    NaN    NaN   \n",
       "4      22.0  2467.375  0.00     NaN  ...  21.0  -40.0   22.0  -19.0    NaN   \n",
       "\n",
       "   OI_a5  OI_5ma  OI_10ma  OI_20ma  OI Ratio  \n",
       "0    NaN     NaN      NaN      NaN -0.600000  \n",
       "1    NaN     NaN      NaN      NaN  0.309091  \n",
       "2    NaN     NaN      NaN      NaN  0.866667  \n",
       "3    NaN     NaN      NaN      NaN -0.016949  \n",
       "4    NaN     NaN      NaN      NaN  0.312500  \n",
       "\n",
       "[5 rows x 35 columns]"
      ]
     },
     "execution_count": 3,
     "metadata": {},
     "output_type": "execute_result"
    }
   ],
   "source": [
    "DF.head()"
   ]
  },
  {
   "cell_type": "code",
   "execution_count": 4,
   "metadata": {},
   "outputs": [],
   "source": [
    "DF.loc[:,'Time'] = DF.loc[:,'Time'].replace(np.nan,'',regex=True)"
   ]
  },
  {
   "cell_type": "markdown",
   "metadata": {},
   "source": [
    "# Exploration"
   ]
  },
  {
   "cell_type": "code",
   "execution_count": 5,
   "metadata": {},
   "outputs": [
    {
     "data": {
      "image/png": "[encoded data removed]",
      "text/plain": [
       "<Figure size 576x432 with 1 Axes>"
      ]
     },
     "metadata": {
      "needs_background": "light"
     },
     "output_type": "display_data"
    }
   ],
   "source": [
    "plt.figure(figsize=(8,6))\n",
    "plt.scatter(DF['OI'],DF['dM'])\n",
    "plt.xlabel(\"VOI (500ms)\")\n",
    "plt.ylabel(\"Price Change (500ms)\")\n",
    "plt.show()"
   ]
  },
  {
   "cell_type": "code",
   "execution_count": 6,
   "metadata": {},
   "outputs": [
    {
     "data": {
      "text/html": [
       "<div>\n",
       "<style scoped>\n",
       "    .dataframe tbody tr th:only-of-type {\n",
       "        vertical-align: middle;\n",
       "    }\n",
       "\n",
       "    .dataframe tbody tr th {\n",
       "        vertical-align: top;\n",
       "    }\n",
       "\n",
       "    .dataframe thead th {\n",
       "        text-align: right;\n",
       "    }\n",
       "</style>\n",
       "<table border=\"1\" class=\"dataframe\">\n",
       "  <thead>\n",
       "    <tr style=\"text-align: right;\">\n",
       "      <th></th>\n",
       "      <th>OI</th>\n",
       "      <th>dM</th>\n",
       "    </tr>\n",
       "  </thead>\n",
       "  <tbody>\n",
       "    <tr>\n",
       "      <th>OI</th>\n",
       "      <td>1.000000</td>\n",
       "      <td>0.361549</td>\n",
       "    </tr>\n",
       "    <tr>\n",
       "      <th>dM</th>\n",
       "      <td>0.361549</td>\n",
       "      <td>1.000000</td>\n",
       "    </tr>\n",
       "  </tbody>\n",
       "</table>\n",
       "</div>"
      ],
      "text/plain": [
       "          OI        dM\n",
       "OI  1.000000  0.361549\n",
       "dM  0.361549  1.000000"
      ]
     },
     "execution_count": 6,
     "metadata": {},
     "output_type": "execute_result"
    }
   ],
   "source": [
    "DF[['OI','dM']].corr()"
   ]
  },
  {
   "cell_type": "markdown",
   "metadata": {},
   "source": [
    "# SVM"
   ]
  },
  {
   "cell_type": "code",
   "execution_count": 7,
   "metadata": {},
   "outputs": [],
   "source": [
    "# defining which features to use\n",
    "\n",
    "x_labs = ['OI_a1', 'OI_a2', 'OI_a3', 'OI_a4', 'OI_a5',\n",
    "          'OI Ratio','OI_10ma','OI_20ma'] # covars\n",
    "y_labs = ['signal6']"
   ]
  },
  {
   "cell_type": "code",
   "execution_count": 8,
   "metadata": {},
   "outputs": [],
   "source": [
    "def my_confusion_matrix(ytrue,ypred,labs=[1,0,-1]):\n",
    "    from sklearn.metrics import confusion_matrix\n",
    "    cols = ['Buy (p)','Hold (p)','Sell (p)']\n",
    "    ind = ['Buy (t)','Hold (t)','Sell (t)']\n",
    "    mat = confusion_matrix(ytrue,ypred,labs)\n",
    "    return pd.DataFrame(mat, columns=cols,index=ind)"
   ]
  },
  {
   "cell_type": "markdown",
   "metadata": {},
   "source": [
    "## Cross Validation"
   ]
  },
  {
   "cell_type": "code",
   "execution_count": 9,
   "metadata": {},
   "outputs": [],
   "source": [
    "from sklearn.model_selection import cross_validate\n",
    "from sklearn.metrics import make_scorer\n",
    "\n",
    "# trading loss for our own CV\n",
    "def trading_loss(ytrue,ypred):\n",
    "    conftrain = confusion_matrix(ytrue, ypred)\n",
    "    loss = np.array([[0,1,2],[1,0,1],[2,1,0]])\n",
    "    return np.sum(conftrain * loss)\n",
    "\n",
    "# callable to score for CV\n",
    "trade_scorer=make_scorer(trading_loss,greater_is_better=False)"
   ]
  },
  {
   "cell_type": "markdown",
   "metadata": {},
   "source": [
    "### Extracting the train/test indexes"
   ]
  },
  {
   "cell_type": "code",
   "execution_count": 10,
   "metadata": {},
   "outputs": [],
   "source": [
    "def my_train_test_idx(DF,xlabs=x_labs,ylabs=['signal6'],return_df=False,n_days=4):\n",
    "    '''\n",
    "    input your data frame and which x's you want to use\n",
    "        as a list into xlabs\n",
    "        \n",
    "    return_df to return new data frame for CV\n",
    "    return value is list of 2-tuples of train & test\n",
    "        index iterables\n",
    "        - pass directly into the cv parameter of cross_validate\n",
    "    '''\n",
    "    df = DF[['Date']+xlabs+ylabs].dropna()\n",
    "    \n",
    "    #list of lengths of each day's data\n",
    "    lengths = []\n",
    "    for d in np.unique(DF['Date'].values)[:n_days]:\n",
    "        lengths.append(df[df['Date']==d].shape[0])\n",
    "    \n",
    "    # where each day starts/ends\n",
    "    bounds = np.cumsum(lengths)\n",
    "    \n",
    "    # list of 2-tuples of train & test indexes\n",
    "    train_test_idx=[]\n",
    "    prev=0\n",
    "    for idx,val in enumerate(bounds[:-1]):\n",
    "        train_id = range(prev,val)\n",
    "        test_id = range(val,bounds[idx+1])\n",
    "        prev = val\n",
    "        train_test_idx.append((train_id,test_id))\n",
    "    \n",
    "    if return_df:\n",
    "        return (train_test_idx,df)\n",
    "    return (train_test_idx)"
   ]
  },
  {
   "cell_type": "code",
   "execution_count": 11,
   "metadata": {},
   "outputs": [
    {
     "data": {
      "text/plain": [
       "[(range(0, 50381), range(50381, 100763)),\n",
       " (range(50381, 100763), range(100763, 151145)),\n",
       " (range(100763, 151145), range(151145, 201527))]"
      ]
     },
     "execution_count": 11,
     "metadata": {},
     "output_type": "execute_result"
    }
   ],
   "source": [
    "idxs, df_cv = my_train_test_idx(DF,x_labs,return_df=True)\n",
    "idxs"
   ]
  },
  {
   "cell_type": "markdown",
   "metadata": {},
   "source": [
    "## Testing CV and GridSearchCV"
   ]
  },
  {
   "cell_type": "code",
   "execution_count": 12,
   "metadata": {},
   "outputs": [],
   "source": [
    "from sklearn.model_selection import GridSearchCV\n",
    "tune_params = {'C':np.logspace(-5,5,20)}"
   ]
  },
  {
   "cell_type": "code",
   "execution_count": 14,
   "metadata": {},
   "outputs": [
    {
     "data": {
      "text/plain": [
       "GridSearchCV(cv=[(range(0, 50381), range(50381, 100763)), (range(50381, 100763), range(100763, 151145)), (range(100763, 151145), range(151145, 201527))],\n",
       "       error_score='raise-deprecating',\n",
       "       estimator=LinearSVC(C=1.0, class_weight='balanced', dual=False, fit_intercept=True,\n",
       "     intercept_scaling=1, loss='squared_hinge', max_iter=1000,\n",
       "     multi_class='ovr', penalty='l2', random_state=None, tol=0.0001,\n",
       "     verbose=0),\n",
       "       fit_params=None, iid='warn', n_jobs=None,\n",
       "       param_grid={'C': array([1.00000e-05, 3.35982e-05, 1.12884e-04, 3.79269e-04, 1.27427e-03,\n",
       "       4.28133e-03, 1.43845e-02, 4.83293e-02, 1.62378e-01, 5.45559e-01,\n",
       "       1.83298e+00, 6.15848e+00, 2.06914e+01, 6.95193e+01, 2.33572e+02,\n",
       "       7.84760e+02, 2.63665e+03, 8.85867e+03, 2.97635e+04, 1.00000e+05])},\n",
       "       pre_dispatch='2*n_jobs', refit=True, return_train_score='warn',\n",
       "       scoring=make_scorer(trading_loss, greater_is_better=False),\n",
       "       verbose=0)"
      ]
     },
     "execution_count": 14,
     "metadata": {},
     "output_type": "execute_result"
    }
   ],
   "source": [
    "fit = GridSearchCV(svm.LinearSVC(dual=False,class_weight='balanced'),\n",
    "                   tune_params,scoring=trade_scorer,cv=idxs)\n",
    "fit.fit(df_cv[x_labs].values,y=df_cv['signal6'].values)"
   ]
  },
  {
   "cell_type": "code",
   "execution_count": 15,
   "metadata": {
    "scrolled": true
   },
   "outputs": [
    {
     "data": {
      "text/plain": [
       "{'C': 1.8329807108324339}"
      ]
     },
     "execution_count": 15,
     "metadata": {},
     "output_type": "execute_result"
    }
   ],
   "source": [
    "best_C = fit.best_params_['C']\n",
    "fit.best_params_"
   ]
  },
  {
   "cell_type": "code",
   "execution_count": 16,
   "metadata": {},
   "outputs": [
    {
     "data": {
      "text/html": [
       "<div>\n",
       "<style scoped>\n",
       "    .dataframe tbody tr th:only-of-type {\n",
       "        vertical-align: middle;\n",
       "    }\n",
       "\n",
       "    .dataframe tbody tr th {\n",
       "        vertical-align: top;\n",
       "    }\n",
       "\n",
       "    .dataframe thead th {\n",
       "        text-align: right;\n",
       "    }\n",
       "</style>\n",
       "<table border=\"1\" class=\"dataframe\">\n",
       "  <thead>\n",
       "    <tr style=\"text-align: right;\">\n",
       "      <th></th>\n",
       "      <th>Buy (p)</th>\n",
       "      <th>Hold (p)</th>\n",
       "      <th>Sell (p)</th>\n",
       "    </tr>\n",
       "  </thead>\n",
       "  <tbody>\n",
       "    <tr>\n",
       "      <th>Buy (t)</th>\n",
       "      <td>11308</td>\n",
       "      <td>1052</td>\n",
       "      <td>3324</td>\n",
       "    </tr>\n",
       "    <tr>\n",
       "      <th>Hold (t)</th>\n",
       "      <td>7762</td>\n",
       "      <td>1820</td>\n",
       "      <td>8036</td>\n",
       "    </tr>\n",
       "    <tr>\n",
       "      <th>Sell (t)</th>\n",
       "      <td>3370</td>\n",
       "      <td>1114</td>\n",
       "      <td>12596</td>\n",
       "    </tr>\n",
       "  </tbody>\n",
       "</table>\n",
       "</div>"
      ],
      "text/plain": [
       "          Buy (p)  Hold (p)  Sell (p)\n",
       "Buy (t)     11308      1052      3324\n",
       "Hold (t)     7762      1820      8036\n",
       "Sell (t)     3370      1114     12596"
      ]
     },
     "execution_count": 16,
     "metadata": {},
     "output_type": "execute_result"
    }
   ],
   "source": [
    "temp = df_cv[df_cv['Date']=='01/03/2019']\n",
    "sv = svm.LinearSVC(C=fit.best_params_['C'],dual=False,class_weight='balanced')\n",
    "sv.fit(temp[x_labs],temp['signal6'])\n",
    "pred = sv.predict(temp[x_labs])\n",
    "my_confusion_matrix(temp['signal6'],pred,[1,0,-1])"
   ]
  },
  {
   "cell_type": "code",
   "execution_count": 75,
   "metadata": {},
   "outputs": [
    {
     "data": {
      "text/plain": [
       "\"\\ndef f_importances(coef, names):\\n    imp = coef\\n    imp,names = zip(*sorted(zip(imp,names)))\\n    plt.barh(range(len(names)), imp, align='center')\\n    plt.yticks(range(len(names)), names)\\n    plt.show()\\nf_importances(sv.coef_, x_labs)\\n\""
      ]
     },
     "execution_count": 75,
     "metadata": {},
     "output_type": "execute_result"
    }
   ],
   "source": [
    "# figure out how to do feature importance for SVM?\n",
    "'''\n",
    "def f_importances(coef, names):\n",
    "    imp = coef\n",
    "    imp,names = zip(*sorted(zip(imp,names)))\n",
    "    plt.barh(range(len(names)), imp, align='center')\n",
    "    plt.yticks(range(len(names)), names)\n",
    "    plt.show()\n",
    "\n",
    "f_importances(sv.coef_, x_labs)\n",
    "'''"
   ]
  },
  {
   "cell_type": "markdown",
   "metadata": {},
   "source": [
    "## Testing on Data Set"
   ]
  },
  {
   "cell_type": "code",
   "execution_count": 17,
   "metadata": {},
   "outputs": [],
   "source": [
    "train_CFM  = []    # training confusion matrices\n",
    "test_CFM   = []    # test confusion matrices\n",
    "\n",
    "train_loss = []    # training loss\n",
    "test_loss  = []    # test loss\n",
    "\n",
    "y_pred_vec_tr = [] # training predictions\n",
    "y_true_vec_tr = [] # true training values\n",
    "\n",
    "y_pred_vec_te = [] # test predictions\n",
    "y_true_vec_te = [] # true test predictions\n",
    "\n",
    "\n",
    "i_vec = my_train_test_idx(DF,x_labs,['signal6'],\n",
    "                 return_df=False,\n",
    "                 n_days=np.unique(DF['Date']).shape[0]\n",
    "                )\n",
    "test_idx = i_vec[3:]\n",
    "df_test = df_cv.copy()"
   ]
  },
  {
   "cell_type": "code",
   "execution_count": null,
   "metadata": {},
   "outputs": [],
   "source": [
    "###### TESTING ON THE DATA ######\n",
    "sv_fit = svm.LinearSVC(C=best_C,dual=False,class_weight='balanced')\n",
    "for i,j in tqdm(test_idx):\n",
    "    X_train = df_test.iloc[i,:][x_labs].values\n",
    "    y_train = df_test.iloc[i,:]['signal6'].values\n",
    "    X_test = df_test.iloc[j,:][x_labs].values\n",
    "    y_test = df_test.iloc[j,:]['signal6'].values\n",
    "    \n",
    "    sv_fit.fit(X_train,y_train)\n",
    "    \n",
    "    # predictions\n",
    "    p_tr = sv_fit.predict(X_train)\n",
    "    p_te = sv_fit.predict(X_test)\n",
    "    \n",
    "    y_pred_vec_tr.append(p_tr)\n",
    "    y_pred_vec_te.append(p_te)\n",
    "    \n",
    "    y_true_vec_tr.append(y_train)\n",
    "    y_true_vec_te.append(y_test)\n",
    "    \n",
    "    # confusion matrices\n",
    "    train_CFM.append(my_confusion_matrix(y_train,p_tr,[1,0,-1]))\n",
    "    test_CFM.append(my_confusion_matrix(y_test,p_te,[1,0,-1]))\n",
    "    \n",
    "    # loss\n",
    "    train_loss.append(trading_loss(y_train,p_tr))\n",
    "    test_loss.append(trading_loss(y_test,p_te))"
   ]
  }
 ],
 "metadata": {
  "kernelspec": {
   "display_name": "Python 3",
   "language": "python",
   "name": "python3"
  },
  "language_info": {
   "codemirror_mode": {
    "name": "ipython",
    "version": 3
   },
   "file_extension": ".py",
   "mimetype": "text/x-python",
   "name": "python",
   "nbconvert_exporter": "python",
   "pygments_lexer": "ipython3",
   "version": "3.7.3"
  }
 },
 "nbformat": 4,
 "nbformat_minor": 2
}
