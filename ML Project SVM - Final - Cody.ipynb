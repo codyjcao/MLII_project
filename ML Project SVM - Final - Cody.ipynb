{
 "cells": [
  {
   "cell_type": "code",
   "execution_count": 183,
   "metadata": {},
   "outputs": [],
   "source": [
    "import numpy as np\n",
    "import pandas as pd\n",
    "import time\n",
    "import matplotlib.pyplot as plt\n",
    "from tqdm import tqdm\n",
    "from datetime import datetime\n",
    "from sklearn import svm\n",
    "from sklearn.metrics import confusion_matrix\n",
    "from sklearn.preprocessing import normalize\n",
    "from sklearn.metrics import make_scorer\n",
    "\n",
    "\n",
    "loss = np.array([[0,1,2],[1,0,1],[2,1,0]])\n",
    "\n",
    "def temp(ytruetest, ytruetrain, ypredtest, ypredtrain):\n",
    "    # \n",
    "    days = len(ytruetest)\n",
    "    losstrain = np.zeros(days)\n",
    "    losstest = np.zeros(days)\n",
    "    acctrain = np.zeros(days)\n",
    "    acctest = np.zeros(days)\n",
    "    \n",
    "    for i in range(days):\n",
    "        conftrain = confusion_matrix(ytruetrain[i], ypredtrain[i])\n",
    "        acctrain[i] = (conftrain[0,0] + conftrain[2,2])/np.sum(conftrain[0] + conftrain[1])\n",
    "        losstrain[i] = np.sum(conftrain * loss)\n",
    "        \n",
    "        conftest = confusion_matrix(ytruetest[i], ypredtest[i])\n",
    "        acctest[i] = (conftest[0,0] + conftest[2,2])/np.sum(conftest[0] + conftest[1])\n",
    "        losstest[i] = np.sum(conftest * loss)\n",
    "        \n",
    "    return(losstrain, losstest, acctrain, acctest)"
   ]
  },
  {
   "cell_type": "markdown",
   "metadata": {},
   "source": [
    "# Loading in Data"
   ]
  },
  {
   "cell_type": "code",
   "execution_count": 100,
   "metadata": {},
   "outputs": [
    {
     "name": "stderr",
     "output_type": "stream",
     "text": [
      "D:\\Programs\\Anaconda\\lib\\site-packages\\numpy\\lib\\arraysetops.py:522: FutureWarning: elementwise comparison failed; returning scalar instead, but in the future will perform elementwise comparison\n",
      "  mask |= (ar1 == a)\n"
     ]
    }
   ],
   "source": [
    "DF = pd.read_csv('data_final.csv',\n",
    "                 index_col = 0,\n",
    "                 dtype={'Time':str})"
   ]
  },
  {
   "cell_type": "code",
   "execution_count": 95,
   "metadata": {},
   "outputs": [],
   "source": [
    "DF.loc[:,'Time'] = DF.loc[:,'Time'].replace(np.nan,'',regex=True)\n",
    "\n",
    "##### extract out trading days (non-Sunday) #####\n",
    "day_p = np.zeros(DF.shape[0])\n",
    "dates = np.unique(DF['Date'].values)\n",
    "wknd = [day for day in dates if datetime.strptime(day,'%m/%d/%Y').weekday()>=5]\n",
    "for idx, day in enumerate(wknd):\n",
    "    day_p += DF['Date'].values == day\n",
    "    \n",
    "DF = DF[day_p == 0]\n",
    "#################################################\n",
    "\n",
    "DF.head()"
   ]
  },
  {
   "cell_type": "markdown",
   "metadata": {},
   "source": [
    "# Exploration"
   ]
  },
  {
   "cell_type": "code",
   "execution_count": 4,
   "metadata": {},
   "outputs": [
    {
     "data": {
      "image/png": "[encoded data removed]",
      "text/plain": [
       "<Figure size 576x432 with 1 Axes>"
      ]
     },
     "metadata": {
      "needs_background": "light"
     },
     "output_type": "display_data"
    }
   ],
   "source": [
    "plt.figure(figsize=(8,6))\n",
    "plt.scatter(DF['OI'],DF['dM'])\n",
    "plt.xlabel(\"VOI (500ms)\")\n",
    "plt.ylabel(\"Price Change (500ms)\")\n",
    "plt.show()"
   ]
  },
  {
   "cell_type": "code",
   "execution_count": 5,
   "metadata": {},
   "outputs": [
    {
     "data": {
      "text/html": [
       "<div>\n",
       "<style scoped>\n",
       "    .dataframe tbody tr th:only-of-type {\n",
       "        vertical-align: middle;\n",
       "    }\n",
       "\n",
       "    .dataframe tbody tr th {\n",
       "        vertical-align: top;\n",
       "    }\n",
       "\n",
       "    .dataframe thead th {\n",
       "        text-align: right;\n",
       "    }\n",
       "</style>\n",
       "<table border=\"1\" class=\"dataframe\">\n",
       "  <thead>\n",
       "    <tr style=\"text-align: right;\">\n",
       "      <th></th>\n",
       "      <th>OI</th>\n",
       "      <th>dM</th>\n",
       "    </tr>\n",
       "  </thead>\n",
       "  <tbody>\n",
       "    <tr>\n",
       "      <th>OI</th>\n",
       "      <td>1.000000</td>\n",
       "      <td>0.401592</td>\n",
       "    </tr>\n",
       "    <tr>\n",
       "      <th>dM</th>\n",
       "      <td>0.401592</td>\n",
       "      <td>1.000000</td>\n",
       "    </tr>\n",
       "  </tbody>\n",
       "</table>\n",
       "</div>"
      ],
      "text/plain": [
       "          OI        dM\n",
       "OI  1.000000  0.401592\n",
       "dM  0.401592  1.000000"
      ]
     },
     "execution_count": 5,
     "metadata": {},
     "output_type": "execute_result"
    }
   ],
   "source": [
    "DF[['OI','dM']].corr()"
   ]
  },
  {
   "cell_type": "markdown",
   "metadata": {},
   "source": [
    "# SVM"
   ]
  },
  {
   "cell_type": "markdown",
   "metadata": {},
   "source": [
    "## Extracting days"
   ]
  },
  {
   "cell_type": "code",
   "execution_count": 6,
   "metadata": {},
   "outputs": [],
   "source": [
    "dates = np.unique(DF['Date'].values)\n",
    "wkdys = [day for day in dates if datetime.strptime(day,'%m/%d/%Y').weekday()<5]\n",
    "train_dys = wkdys[:7]"
   ]
  },
  {
   "cell_type": "code",
   "execution_count": 7,
   "metadata": {},
   "outputs": [
    {
     "data": {
      "text/plain": [
       "['01/02/2019',\n",
       " '01/03/2019',\n",
       " '01/04/2019',\n",
       " '01/07/2019',\n",
       " '01/08/2019',\n",
       " '01/09/2019',\n",
       " '01/10/2019']"
      ]
     },
     "execution_count": 7,
     "metadata": {},
     "output_type": "execute_result"
    }
   ],
   "source": [
    "train_dys"
   ]
  },
  {
   "cell_type": "code",
   "execution_count": 10,
   "metadata": {},
   "outputs": [],
   "source": [
    "x_labs = ['OI_a1', 'OI_a2', 'OI_a3', 'OI_a4', 'OI_a5'] # covars\n",
    "y_labs = ['signal','signal2','signal3','signal4','signal5','signal6']\n",
    "\n",
    "# list of data frames for the first 7 business days\n",
    "tdf = [DF.loc[DF['Date'] == d,x_labs+y_labs].dropna() for d in train_dys]"
   ]
  },
  {
   "cell_type": "code",
   "execution_count": 9,
   "metadata": {},
   "outputs": [],
   "source": [
    "def my_confusion_matrix(mat):\n",
    "    # input is whatever is returned by sklearn's\n",
    "    # confusion matrix\n",
    "    cols = ['Buy (p)','Hold (p)','Sell (p)']\n",
    "    ind = ['Buy (t)','Hold (t)','Sell (t)']\n",
    "    return pd.DataFrame(mat, columns=cols,index=ind)"
   ]
  },
  {
   "cell_type": "markdown",
   "metadata": {},
   "source": [
    "## SVM Model 1"
   ]
  },
  {
   "cell_type": "code",
   "execution_count": 12,
   "metadata": {
    "collapsed": true
   },
   "outputs": [
    {
     "name": "stderr",
     "output_type": "stream",
     "text": [
      "\r",
      "0it [00:00, ?it/s]"
     ]
    },
    {
     "name": "stdout",
     "output_type": "stream",
     "text": [
      "day 1 ----------\n",
      "\n"
     ]
    },
    {
     "name": "stderr",
     "output_type": "stream",
     "text": [
      "\n",
      "0it [00:00, ?it/s]"
     ]
    },
    {
     "name": "stdout",
     "output_type": "stream",
     "text": [
      "starting fitting...\t1\tsignal\n",
      "completed fitting...\t1\tsignal\n",
      "time\t198.50799703598022\t1\tsignal\n"
     ]
    },
    {
     "name": "stderr",
     "output_type": "stream",
     "text": [
      "\n",
      "1it [03:37, 217.60s/it]"
     ]
    },
    {
     "name": "stdout",
     "output_type": "stream",
     "text": [
      "starting fitting...\t2\tsignal2\n",
      "completed fitting...\t2\tsignal2\n",
      "time\t212.74071264266968\t2\tsignal2\n"
     ]
    },
    {
     "name": "stderr",
     "output_type": "stream",
     "text": [
      "\n",
      "2it [07:29, 221.89s/it]"
     ]
    },
    {
     "name": "stdout",
     "output_type": "stream",
     "text": [
      "starting fitting...\t3\tsignal3\n",
      "completed fitting...\t3\tsignal3\n",
      "time\t208.59176683425903\t3\tsignal3\n"
     ]
    },
    {
     "name": "stderr",
     "output_type": "stream",
     "text": [
      "\n",
      "3it [11:14, 222.74s/it]"
     ]
    },
    {
     "name": "stdout",
     "output_type": "stream",
     "text": [
      "starting fitting...\t4\tsignal4\n",
      "completed fitting...\t4\tsignal4\n",
      "time\t165.03741669654846\t4\tsignal4\n"
     ]
    },
    {
     "name": "stderr",
     "output_type": "stream",
     "text": [
      "\n",
      "4it [14:15, 210.34s/it]"
     ]
    },
    {
     "name": "stdout",
     "output_type": "stream",
     "text": [
      "starting fitting...\t5\tsignal5\n",
      "completed fitting...\t5\tsignal5\n",
      "time\t215.1413550376892\t5\tsignal5\n"
     ]
    },
    {
     "name": "stderr",
     "output_type": "stream",
     "text": [
      "\n",
      "5it [18:08, 217.17s/it]"
     ]
    },
    {
     "name": "stdout",
     "output_type": "stream",
     "text": [
      "starting fitting...\t6\tsignal6\n",
      "completed fitting...\t6\tsignal6\n",
      "time\t222.87445783615112\t6\tsignal6\n"
     ]
    },
    {
     "name": "stderr",
     "output_type": "stream",
     "text": [
      "\n",
      "6it [22:08, 224.02s/it]\n",
      "1it [22:08, 1328.73s/it]"
     ]
    },
    {
     "name": "stdout",
     "output_type": "stream",
     "text": [
      "day 2 ----------\n",
      "\n"
     ]
    },
    {
     "name": "stderr",
     "output_type": "stream",
     "text": [
      "\n",
      "0it [00:00, ?it/s]"
     ]
    },
    {
     "name": "stdout",
     "output_type": "stream",
     "text": [
      "starting fitting...\t1\tsignal\n",
      "completed fitting...\t1\tsignal\n",
      "time\t218.12138175964355\t1\tsignal\n"
     ]
    },
    {
     "name": "stderr",
     "output_type": "stream",
     "text": [
      "\n",
      "1it [03:56, 236.54s/it]"
     ]
    },
    {
     "name": "stdout",
     "output_type": "stream",
     "text": [
      "starting fitting...\t2\tsignal2\n",
      "completed fitting...\t2\tsignal2\n",
      "time\t232.15705275535583\t2\tsignal2\n"
     ]
    },
    {
     "name": "stderr",
     "output_type": "stream",
     "text": [
      "\n",
      "2it [08:07, 240.74s/it]"
     ]
    },
    {
     "name": "stdout",
     "output_type": "stream",
     "text": [
      "starting fitting...\t3\tsignal3\n",
      "completed fitting...\t3\tsignal3\n",
      "time\t225.06218838691711\t3\tsignal3\n"
     ]
    },
    {
     "name": "stderr",
     "output_type": "stream",
     "text": [
      "\n",
      "3it [12:07, 240.73s/it]"
     ]
    },
    {
     "name": "stdout",
     "output_type": "stream",
     "text": [
      "starting fitting...\t4\tsignal4\n",
      "completed fitting...\t4\tsignal4\n",
      "time\t195.63324880599976\t4\tsignal4\n"
     ]
    },
    {
     "name": "stderr",
     "output_type": "stream",
     "text": [
      "\n",
      "4it [15:39, 231.89s/it]"
     ]
    },
    {
     "name": "stdout",
     "output_type": "stream",
     "text": [
      "starting fitting...\t5\tsignal5\n",
      "completed fitting...\t5\tsignal5\n",
      "time\t246.7946617603302\t5\tsignal5\n"
     ]
    },
    {
     "name": "stderr",
     "output_type": "stream",
     "text": [
      "\n",
      "5it [20:03, 241.53s/it]"
     ]
    },
    {
     "name": "stdout",
     "output_type": "stream",
     "text": [
      "starting fitting...\t6\tsignal6\n",
      "completed fitting...\t6\tsignal6\n",
      "time\t256.5535497665405\t6\tsignal6\n"
     ]
    },
    {
     "name": "stderr",
     "output_type": "stream",
     "text": [
      "\n",
      "6it [24:37, 251.28s/it]\n",
      "2it [46:45, 1373.24s/it]"
     ]
    },
    {
     "name": "stdout",
     "output_type": "stream",
     "text": [
      "day 3 ----------\n",
      "\n"
     ]
    },
    {
     "name": "stderr",
     "output_type": "stream",
     "text": [
      "\n",
      "0it [00:00, ?it/s]"
     ]
    },
    {
     "name": "stdout",
     "output_type": "stream",
     "text": [
      "starting fitting...\t1\tsignal\n",
      "completed fitting...\t1\tsignal\n",
      "time\t265.86363983154297\t1\tsignal\n"
     ]
    },
    {
     "name": "stderr",
     "output_type": "stream",
     "text": [
      "\n",
      "1it [04:44, 284.74s/it]"
     ]
    },
    {
     "name": "stdout",
     "output_type": "stream",
     "text": [
      "starting fitting...\t2\tsignal2\n",
      "completed fitting...\t2\tsignal2\n",
      "time\t292.0455849170685\t2\tsignal2\n"
     ]
    },
    {
     "name": "stderr",
     "output_type": "stream",
     "text": [
      "\n",
      "2it [09:57, 293.12s/it]"
     ]
    },
    {
     "name": "stdout",
     "output_type": "stream",
     "text": [
      "starting fitting...\t3\tsignal3\n",
      "completed fitting...\t3\tsignal3\n",
      "time\t256.76697993278503\t3\tsignal3\n"
     ]
    },
    {
     "name": "stderr",
     "output_type": "stream",
     "text": [
      "\n",
      "3it [14:30, 287.04s/it]"
     ]
    },
    {
     "name": "stdout",
     "output_type": "stream",
     "text": [
      "starting fitting...\t4\tsignal4\n",
      "completed fitting...\t4\tsignal4\n",
      "time\t220.35093116760254\t4\tsignal4\n"
     ]
    },
    {
     "name": "stderr",
     "output_type": "stream",
     "text": [
      "\n",
      "4it [18:27, 271.95s/it]"
     ]
    },
    {
     "name": "stdout",
     "output_type": "stream",
     "text": [
      "starting fitting...\t5\tsignal5\n",
      "completed fitting...\t5\tsignal5\n",
      "time\t371.539986371994\t5\tsignal5\n"
     ]
    },
    {
     "name": "stderr",
     "output_type": "stream",
     "text": [
      "\n",
      "5it [24:55, 306.85s/it]"
     ]
    },
    {
     "name": "stdout",
     "output_type": "stream",
     "text": [
      "starting fitting...\t6\tsignal6\n",
      "completed fitting...\t6\tsignal6\n",
      "time\t296.0698187351227\t6\tsignal6\n"
     ]
    },
    {
     "name": "stderr",
     "output_type": "stream",
     "text": [
      "\n",
      "6it [30:08, 308.73s/it]\n",
      "3it [1:16:54, 1503.79s/it]"
     ]
    },
    {
     "name": "stdout",
     "output_type": "stream",
     "text": [
      "day 4 ----------\n",
      "\n"
     ]
    },
    {
     "name": "stderr",
     "output_type": "stream",
     "text": [
      "\n",
      "0it [00:00, ?it/s]"
     ]
    },
    {
     "name": "stdout",
     "output_type": "stream",
     "text": [
      "starting fitting...\t1\tsignal\n",
      "completed fitting...\t1\tsignal\n",
      "time\t282.7407691478729\t1\tsignal\n"
     ]
    },
    {
     "name": "stderr",
     "output_type": "stream",
     "text": [
      "\n",
      "1it [05:02, 302.79s/it]"
     ]
    },
    {
     "name": "stdout",
     "output_type": "stream",
     "text": [
      "starting fitting...\t2\tsignal2\n",
      "completed fitting...\t2\tsignal2\n",
      "time\t313.79838275909424\t2\tsignal2\n"
     ]
    },
    {
     "name": "stderr",
     "output_type": "stream",
     "text": [
      "\n",
      "2it [10:35, 311.68s/it]"
     ]
    },
    {
     "name": "stdout",
     "output_type": "stream",
     "text": [
      "starting fitting...\t3\tsignal3\n",
      "completed fitting...\t3\tsignal3\n",
      "time\t273.60890007019043\t3\tsignal3\n"
     ]
    },
    {
     "name": "stderr",
     "output_type": "stream",
     "text": [
      "\n",
      "3it [15:25, 305.35s/it]"
     ]
    },
    {
     "name": "stdout",
     "output_type": "stream",
     "text": [
      "starting fitting...\t4\tsignal4\n",
      "completed fitting...\t4\tsignal4\n",
      "time\t222.62432956695557\t4\tsignal4\n"
     ]
    },
    {
     "name": "stderr",
     "output_type": "stream",
     "text": [
      "\n",
      "4it [19:25, 285.53s/it]"
     ]
    },
    {
     "name": "stdout",
     "output_type": "stream",
     "text": [
      "starting fitting...\t5\tsignal5\n",
      "completed fitting...\t5\tsignal5\n",
      "time\t320.24413871765137\t5\tsignal5\n"
     ]
    },
    {
     "name": "stderr",
     "output_type": "stream",
     "text": [
      "\n",
      "5it [25:02, 301.05s/it]"
     ]
    },
    {
     "name": "stdout",
     "output_type": "stream",
     "text": [
      "starting fitting...\t6\tsignal6\n",
      "completed fitting...\t6\tsignal6\n",
      "time\t324.827805519104\t6\tsignal6\n"
     ]
    },
    {
     "name": "stderr",
     "output_type": "stream",
     "text": [
      "\n",
      "6it [30:44, 313.45s/it]\n",
      "4it [1:47:38, 1606.07s/it]"
     ]
    },
    {
     "name": "stdout",
     "output_type": "stream",
     "text": [
      "day 5 ----------\n",
      "\n"
     ]
    },
    {
     "name": "stderr",
     "output_type": "stream",
     "text": [
      "\n",
      "0it [00:00, ?it/s]"
     ]
    },
    {
     "name": "stdout",
     "output_type": "stream",
     "text": [
      "starting fitting...\t1\tsignal\n",
      "completed fitting...\t1\tsignal\n",
      "time\t350.5011899471283\t1\tsignal\n"
     ]
    },
    {
     "name": "stderr",
     "output_type": "stream",
     "text": [
      "\n",
      "1it [06:09, 369.52s/it]"
     ]
    },
    {
     "name": "stdout",
     "output_type": "stream",
     "text": [
      "starting fitting...\t2\tsignal2\n",
      "completed fitting...\t2\tsignal2\n",
      "time\t371.4112038612366\t2\tsignal2\n"
     ]
    },
    {
     "name": "stderr",
     "output_type": "stream",
     "text": [
      "\n",
      "2it [12:39, 375.65s/it]"
     ]
    },
    {
     "name": "stdout",
     "output_type": "stream",
     "text": [
      "starting fitting...\t3\tsignal3\n",
      "completed fitting...\t3\tsignal3\n",
      "time\t324.40201210975647\t3\tsignal3\n"
     ]
    },
    {
     "name": "stderr",
     "output_type": "stream",
     "text": [
      "\n",
      "3it [18:21, 365.64s/it]"
     ]
    },
    {
     "name": "stdout",
     "output_type": "stream",
     "text": [
      "starting fitting...\t4\tsignal4\n",
      "completed fitting...\t4\tsignal4\n",
      "time\t252.2849361896515\t4\tsignal4\n"
     ]
    },
    {
     "name": "stderr",
     "output_type": "stream",
     "text": [
      "\n",
      "4it [22:49, 336.35s/it]"
     ]
    },
    {
     "name": "stdout",
     "output_type": "stream",
     "text": [
      "starting fitting...\t5\tsignal5\n",
      "completed fitting...\t5\tsignal5\n",
      "time\t367.01312136650085\t5\tsignal5\n"
     ]
    },
    {
     "name": "stderr",
     "output_type": "stream",
     "text": [
      "\n",
      "5it [29:13, 350.61s/it]"
     ]
    },
    {
     "name": "stdout",
     "output_type": "stream",
     "text": [
      "starting fitting...\t6\tsignal6\n",
      "completed fitting...\t6\tsignal6\n",
      "time\t383.1959283351898\t6\tsignal6\n"
     ]
    },
    {
     "name": "stderr",
     "output_type": "stream",
     "text": [
      "\n",
      "6it [35:54, 365.71s/it]\n",
      "5it [2:23:33, 1770.62s/it]"
     ]
    },
    {
     "name": "stdout",
     "output_type": "stream",
     "text": [
      "day 6 ----------\n",
      "\n"
     ]
    },
    {
     "name": "stderr",
     "output_type": "stream",
     "text": [
      "\n",
      "0it [00:00, ?it/s]"
     ]
    },
    {
     "name": "stdout",
     "output_type": "stream",
     "text": [
      "starting fitting...\t1\tsignal\n",
      "completed fitting...\t1\tsignal\n",
      "time\t334.1198077201843\t1\tsignal\n"
     ]
    },
    {
     "name": "stderr",
     "output_type": "stream",
     "text": [
      "\n",
      "1it [05:52, 352.48s/it]"
     ]
    },
    {
     "name": "stdout",
     "output_type": "stream",
     "text": [
      "starting fitting...\t2\tsignal2\n",
      "completed fitting...\t2\tsignal2\n",
      "time\t355.9196801185608\t2\tsignal2\n"
     ]
    },
    {
     "name": "stderr",
     "output_type": "stream",
     "text": [
      "\n",
      "2it [12:08, 359.66s/it]"
     ]
    },
    {
     "name": "stdout",
     "output_type": "stream",
     "text": [
      "starting fitting...\t3\tsignal3\n",
      "completed fitting...\t3\tsignal3\n",
      "time\t311.74687027931213\t3\tsignal3\n"
     ]
    },
    {
     "name": "stderr",
     "output_type": "stream",
     "text": [
      "\n",
      "3it [17:38, 350.60s/it]"
     ]
    },
    {
     "name": "stdout",
     "output_type": "stream",
     "text": [
      "starting fitting...\t4\tsignal4\n",
      "completed fitting...\t4\tsignal4\n",
      "time\t245.78737807273865\t4\tsignal4\n"
     ]
    },
    {
     "name": "stderr",
     "output_type": "stream",
     "text": [
      "\n",
      "4it [22:00, 324.04s/it]"
     ]
    },
    {
     "name": "stdout",
     "output_type": "stream",
     "text": [
      "starting fitting...\t5\tsignal5\n",
      "completed fitting...\t5\tsignal5\n",
      "time\t334.22173738479614\t5\tsignal5\n"
     ]
    },
    {
     "name": "stderr",
     "output_type": "stream",
     "text": [
      "\n",
      "5it [27:51, 332.18s/it]"
     ]
    },
    {
     "name": "stdout",
     "output_type": "stream",
     "text": [
      "starting fitting...\t6\tsignal6\n",
      "completed fitting...\t6\tsignal6\n",
      "time\t355.685307264328\t6\tsignal6\n"
     ]
    },
    {
     "name": "stderr",
     "output_type": "stream",
     "text": [
      "\n",
      "6it [34:05, 344.75s/it]\n",
      "6it [2:57:39, 1853.14s/it]\n"
     ]
    }
   ],
   "source": [
    "# C = 1/100\n",
    "# six models per day\n",
    "# what to record\n",
    "#     - confusion matrix\n",
    "#     - time to fit?\n",
    "\n",
    "# takes approximately 3 minutes per model\n",
    "# 6 models\n",
    "# 7 days --> 6 train days\n",
    "# 36 * 3 = 108 minutes to train\n",
    "\n",
    "'''\n",
    "conf_mats = [] # row - day, column - model\n",
    "fit_time  = [] # row - day, column - model\n",
    "\n",
    "for idx, d in tqdm(enumerate(train_dys[:-1])):\n",
    "    print(\"day\",idx+1,'----------\\n')\n",
    "    mat_vec = []  # store the confusion matrices\n",
    "    time_vec = [] # store the fitting time\n",
    "    svmfit = svm.SVC(C=10**-2,kernel='linear',class_weight = 'balanced')\n",
    "    \n",
    "    today = tdf[idx]    # train on today\n",
    "    tom   = tdf[idx+1]  # test on tomorrow\n",
    "    \n",
    "    # train model on each signal\n",
    "    for j, y in tqdm(enumerate(y_labs)):\n",
    "        print(\"starting fitting...\", j + 1, y, sep = '\\t')\n",
    "        start = time.time()\n",
    "        svmfit.fit(today[x_labs].values,today[y].values)\n",
    "        print(\"completed fitting...\", j + 1, y, sep='\\t')\n",
    "        \n",
    "        end = time.time()\n",
    "        print('time', end-start, j+1, y, sep='\\t')\n",
    "        \n",
    "        # record time to fit\n",
    "        time_vec.append(end-start)\n",
    "        \n",
    "        # predict on day ahead\n",
    "        pred = svmfit.predict(tom[x_labs])\n",
    "        \n",
    "        # return the confusion matrix\n",
    "        mat = confusion_matrix(tom[y].values,pred,[1,0,-1])\n",
    "        mat_vec.append(my_confusion_matrix(mat))\n",
    "        \n",
    "    conf_mats.append(mat_vec)\n",
    "    fit_time.append(time_vec)\n",
    "'''"
   ]
  },
  {
   "cell_type": "markdown",
   "metadata": {},
   "source": [
    "# Train"
   ]
  },
  {
   "cell_type": "code",
   "execution_count": 141,
   "metadata": {},
   "outputs": [],
   "source": [
    "dates = np.unique(DF['Date'].values)\n",
    "df_list = [DF.loc[DF['Date']==d,x_labs+['signal6']].dropna() for d in dates]"
   ]
  },
  {
   "cell_type": "code",
   "execution_count": 150,
   "metadata": {},
   "outputs": [],
   "source": [
    "train_list = df_list[:4] # first 4 days\n",
    "x_labs = ['OI_a1','OI_a2','OI_a3','OI_a4','OI_a5']\n",
    "\n",
    "# signal6\n",
    "\n",
    "# What we want\n",
    "#   training predictions\n",
    "#   test predictions\n",
    "#   signal columns"
   ]
  },
  {
   "cell_type": "code",
   "execution_count": 156,
   "metadata": {},
   "outputs": [
    {
     "name": "stderr",
     "output_type": "stream",
     "text": [
      "\n",
      "0it [00:00, ?it/s]"
     ]
    },
    {
     "name": "stdout",
     "output_type": "stream",
     "text": [
      "---------- Day 1 ----------\n",
      "\n",
      "Training...\n",
      "Training complete... 219\n",
      "Predicting on training...\n",
      "Predicting on test...\n"
     ]
    },
    {
     "name": "stderr",
     "output_type": "stream",
     "text": [
      "\n",
      "1it [04:14, 254.04s/it]"
     ]
    },
    {
     "name": "stdout",
     "output_type": "stream",
     "text": [
      "---------- Day 2 ----------\n",
      "\n",
      "Training...\n",
      "Training complete... 248\n",
      "Predicting on training...\n",
      "Predicting on test...\n"
     ]
    },
    {
     "name": "stderr",
     "output_type": "stream",
     "text": [
      "\n",
      "2it [08:57, 262.72s/it]"
     ]
    },
    {
     "name": "stdout",
     "output_type": "stream",
     "text": [
      "---------- Day 3 ----------\n",
      "\n",
      "Training...\n",
      "Training complete... 299\n",
      "Predicting on training...\n",
      "Predicting on test...\n"
     ]
    },
    {
     "name": "stderr",
     "output_type": "stream",
     "text": [
      "\n",
      "3it [14:31, 284.32s/it]\n"
     ]
    }
   ],
   "source": [
    "conf_mats = []\n",
    "ypred_tr  = [] # store training predictions\n",
    "ypred_te  = [] # store test predictions\n",
    "times     = [] # fitting times\n",
    "\n",
    "\n",
    "for idx, dft in tqdm(enumerate(train_list[:-1])):\n",
    "    print(\"---------- Day\",idx+1,'----------\\n')\n",
    "    mat_vec = []  # store the confusion matrices\n",
    "    \n",
    "    svmfit = svm.SVC(C=10**-2,kernel='linear',class_weight = 'balanced')\n",
    "    \n",
    "    today = dft                # train on today\n",
    "    tom   = train_list[idx+1]  # test on tomorrow\n",
    "    \n",
    "    #####\n",
    "    start = time.time()\n",
    "    print(\"Training...\")\n",
    "    svmfit.fit(today[x_labs].values,today['signal6'].values)\n",
    "    end = time.time()\n",
    "    t = np.int64(end-start)\n",
    "    print(\"Training complete...\", t)\n",
    "    times.append(t)\n",
    "    #####\n",
    "    \n",
    "    y_tr   = today['signal6'].values\n",
    "    y_te   = tom['signal6'].values\n",
    "    \n",
    "    print(\"Predicting on training...\")\n",
    "    yhat_r = svmfit.predict(today[x_labs])\n",
    "    \n",
    "    print(\"Predicting on test...\")\n",
    "    yhat_e = svmfit.predict(tom[x_labs])\n",
    "    \n",
    "    ypred_tr.append(yhat_r)\n",
    "    ypred_te.append(yhat_e)\n",
    "    \n",
    "    tr_mat = confusion_matrix(y_tr, yhat_r,labels=[1,0,-1])\n",
    "    te_mat = confusion_matrix(y_te, yhat_e,labels=[1,0,-1])\n",
    "    mat_vec = [my_confusion_matrix(tr_mat),my_confusion_matrix(tr_mat)]\n",
    "    \n",
    "    conf_mats.append(mat_vec)"
   ]
  },
  {
   "cell_type": "code",
   "execution_count": 180,
   "metadata": {},
   "outputs": [],
   "source": [
    "loss = np.array([[0,1,2],[1,0,1],[2,1,0]])\n",
    "\n",
    "def my_loss_fn(ytruetest, ytruetrain, ypredtest, ypredtrain):\n",
    "    \n",
    "    days = len(ytruetest)\n",
    "    losstrain = np.zeros(days)\n",
    "    losstest = np.zeros(days)\n",
    "    acctrain = np.zeros(days)\n",
    "    acctest = np.zeros(days)\n",
    "    acctrain1 = np.zeros(days)\n",
    "    acctest1 = np.zeros(days)\n",
    "    \n",
    "    for i in range(days):\n",
    "        conftrain = confusion_matrix(ytruetrain[i], ypredtrain[i])\n",
    "        acctrain[i] = (conftrain[0,0] + conftrain[2,2])/np.sum(conftrain[0] + conftrain[2])\n",
    "        acctrain1[i] = (conftrain[0,0] + conftrain[2,2])/np.sum(\n",
    "            conftrain[0,0] + conftrain[0,2] + conftrain[2,0] + conftrain[2,2])\n",
    "        losstrain[i] = np.sum(conftrain * loss)\n",
    "        \n",
    "        conftest = confusion_matrix(ytruetest[i], ypredtest[i])\n",
    "        acctest[i] = ((conftest[0,0] + conftest[2,2])/\n",
    "                      np.sum(conftest[0] + conftest[2]))\n",
    "        acctest1[i] = (conftest[0,0] + conftest[2,2])/np.sum(\n",
    "            conftest[0,0] + conftest[0,2] + conftest[2,0] + conftest[2,2])\n",
    "        losstest[i] = np.sum(conftest * loss)\n",
    "    \n",
    "    ind = [('Day ' + str(i+1))for i in range(days)]\n",
    "    col = ['Loss Train','Loss Test','Accuracy Train 1',\n",
    "           'Accuracy Train 2','Accuracy Test 1',\n",
    "           'Accuracy Test 2']\n",
    "    retv = zip(col,(losstrain, losstest, acctrain, acctrain1, acctest, acctest1))\n",
    "    return pd.DataFrame(dict(retv),index=ind)"
   ]
  },
  {
   "cell_type": "code",
   "execution_count": 181,
   "metadata": {},
   "outputs": [],
   "source": [
    "ytruetest = [train['signal6'].values for train in train_list[1:]]\n",
    "ytruetrain= [train['signal6'].values for train in train_list[:-1]]"
   ]
  },
  {
   "cell_type": "code",
   "execution_count": 182,
   "metadata": {},
   "outputs": [
    {
     "data": {
      "text/html": [
       "<div>\n",
       "<style scoped>\n",
       "    .dataframe tbody tr th:only-of-type {\n",
       "        vertical-align: middle;\n",
       "    }\n",
       "\n",
       "    .dataframe tbody tr th {\n",
       "        vertical-align: top;\n",
       "    }\n",
       "\n",
       "    .dataframe thead th {\n",
       "        text-align: right;\n",
       "    }\n",
       "</style>\n",
       "<table border=\"1\" class=\"dataframe\">\n",
       "  <thead>\n",
       "    <tr style=\"text-align: right;\">\n",
       "      <th></th>\n",
       "      <th>Loss Train</th>\n",
       "      <th>Loss Test</th>\n",
       "      <th>Accuracy Train 1</th>\n",
       "      <th>Accuracy Train 2</th>\n",
       "      <th>Accuracy Test 1</th>\n",
       "      <th>Accuracy Test 2</th>\n",
       "    </tr>\n",
       "  </thead>\n",
       "  <tbody>\n",
       "    <tr>\n",
       "      <th>Day 1</th>\n",
       "      <td>30672.0</td>\n",
       "      <td>31693.0</td>\n",
       "      <td>0.555573</td>\n",
       "      <td>0.772740</td>\n",
       "      <td>0.553760</td>\n",
       "      <td>0.765241</td>\n",
       "    </tr>\n",
       "    <tr>\n",
       "      <th>Day 2</th>\n",
       "      <td>31700.0</td>\n",
       "      <td>31674.0</td>\n",
       "      <td>0.555877</td>\n",
       "      <td>0.765182</td>\n",
       "      <td>0.594732</td>\n",
       "      <td>0.776941</td>\n",
       "    </tr>\n",
       "    <tr>\n",
       "      <th>Day 3</th>\n",
       "      <td>30310.0</td>\n",
       "      <td>29896.0</td>\n",
       "      <td>0.561655</td>\n",
       "      <td>0.788181</td>\n",
       "      <td>0.593237</td>\n",
       "      <td>0.802550</td>\n",
       "    </tr>\n",
       "  </tbody>\n",
       "</table>\n",
       "</div>"
      ],
      "text/plain": [
       "       Loss Train  Loss Test  Accuracy Train 1  Accuracy Train 2  \\\n",
       "Day 1     30672.0    31693.0          0.555573          0.772740   \n",
       "Day 2     31700.0    31674.0          0.555877          0.765182   \n",
       "Day 3     30310.0    29896.0          0.561655          0.788181   \n",
       "\n",
       "       Accuracy Test 1  Accuracy Test 2  \n",
       "Day 1         0.553760         0.765241  \n",
       "Day 2         0.594732         0.776941  \n",
       "Day 3         0.593237         0.802550  "
      ]
     },
     "execution_count": 182,
     "metadata": {},
     "output_type": "execute_result"
    }
   ],
   "source": [
    "my_loss_fn(ytruetest,ytruetrain,ypred_te,ypred_tr)"
   ]
  },
  {
   "cell_type": "code",
   "execution_count": 184,
   "metadata": {},
   "outputs": [],
   "source": [
    "def trading_loss(ytrue,ypred):\n",
    "    conftrain = confusion_matrix(ytrue, ypred)\n",
    "    loss = np.array([[0,1,2],[1,0,1],[2,1,0]])\n",
    "    return np.sum(conftrain * loss)\n",
    "\n",
    "\n",
    "trade_scorer=make_scorer(trading_loss,greater_is_better=False)"
   ]
  },
  {
   "cell_type": "code",
   "execution_count": 188,
   "metadata": {},
   "outputs": [
    {
     "data": {
      "text/plain": [
       "make_scorer(trading_loss, greater_is_better=False)"
      ]
     },
     "execution_count": 188,
     "metadata": {},
     "output_type": "execute_result"
    }
   ],
   "source": [
    "trade_scorer"
   ]
  },
  {
   "cell_type": "code",
   "execution_count": null,
   "metadata": {},
   "outputs": [],
   "source": []
  }
 ],
 "metadata": {
  "kernelspec": {
   "display_name": "Python 3",
   "language": "python",
   "name": "python3"
  },
  "language_info": {
   "codemirror_mode": {
    "name": "ipython",
    "version": 3
   },
   "file_extension": ".py",
   "mimetype": "text/x-python",
   "name": "python",
   "nbconvert_exporter": "python",
   "pygments_lexer": "ipython3",
   "version": "3.7.0"
  }
 },
 "nbformat": 4,
 "nbformat_minor": 2
}
