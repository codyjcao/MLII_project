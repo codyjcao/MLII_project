{
 "cells": [
  {
   "cell_type": "code",
   "execution_count": 190,
   "metadata": {},
   "outputs": [],
   "source": [
    "import numpy as np\n",
    "import pandas as pd\n",
    "import time\n",
    "import matplotlib.pyplot as plt\n",
    "from tqdm import tqdm\n",
    "from datetime import datetime\n",
    "from sklearn import svm\n",
    "from sklearn.metrics import confusion_matrix\n",
    "from sklearn.preprocessing import normalize\n",
    "from sklearn.metrics import make_scorer\n",
    "\n",
    "\n",
    "def my_loss_fn(ytruetest, ytruetrain, ypredtest, ypredtrain):\n",
    "    loss = np.array([[0,1,2],[1,0,1],[2,1,0]])\n",
    "    days = len(ytruetest)\n",
    "    losstrain = np.zeros(days)\n",
    "    losstest = np.zeros(days)\n",
    "    acctrain = np.zeros(days)\n",
    "    acctest = np.zeros(days)\n",
    "    acctrain1 = np.zeros(days)\n",
    "    acctest1 = np.zeros(days)\n",
    "    \n",
    "    for i in range(days):\n",
    "        conftrain = confusion_matrix(ytruetrain[i], ypredtrain[i])\n",
    "        acctrain[i] = (conftrain[0,0] + conftrain[2,2])/np.sum(conftrain[0] + conftrain[2])\n",
    "        acctrain1[i] = (conftrain[0,0] + conftrain[2,2])/np.sum(\n",
    "            conftrain[0,0] + conftrain[0,2] + conftrain[2,0] + conftrain[2,2])\n",
    "        losstrain[i] = np.sum(conftrain * loss)\n",
    "        \n",
    "        conftest = confusion_matrix(ytruetest[i], ypredtest[i])\n",
    "        acctest[i] = ((conftest[0,0] + conftest[2,2])/\n",
    "                      np.sum(conftest[0] + conftest[2]))\n",
    "        acctest1[i] = (conftest[0,0] + conftest[2,2])/np.sum(\n",
    "            conftest[0,0] + conftest[0,2] + conftest[2,0] + conftest[2,2])\n",
    "        losstest[i] = np.sum(conftest * loss)\n",
    "    \n",
    "    ind = [('Day ' + str(i+1))for i in range(days)]\n",
    "    col = ['Loss Train','Loss Test','Accuracy Train 1',\n",
    "           'Accuracy Train 2','Accuracy Test 1',\n",
    "           'Accuracy Test 2']\n",
    "    retv = zip(col,(losstrain, losstest, acctrain, acctrain1, acctest, acctest1))\n",
    "    return pd.DataFrame(dict(retv),index=ind)"
   ]
  },
  {
   "cell_type": "markdown",
   "metadata": {},
   "source": [
    "# Loading in Data"
   ]
  },
  {
   "cell_type": "code",
   "execution_count": 266,
   "metadata": {},
   "outputs": [
    {
     "name": "stderr",
     "output_type": "stream",
     "text": [
      "D:\\Programs\\Anaconda\\lib\\site-packages\\numpy\\lib\\arraysetops.py:522: FutureWarning: elementwise comparison failed; returning scalar instead, but in the future will perform elementwise comparison\n",
      "  mask |= (ar1 == a)\n"
     ]
    }
   ],
   "source": [
    "DF = pd.read_csv('ESH2019_final.csv',\n",
    "                 index_col = 0,\n",
    "                 dtype={'Time':str})"
   ]
  },
  {
   "cell_type": "code",
   "execution_count": 267,
   "metadata": {},
   "outputs": [
    {
     "data": {
      "text/html": [
       "<div>\n",
       "<style scoped>\n",
       "    .dataframe tbody tr th:only-of-type {\n",
       "        vertical-align: middle;\n",
       "    }\n",
       "\n",
       "    .dataframe tbody tr th {\n",
       "        vertical-align: top;\n",
       "    }\n",
       "\n",
       "    .dataframe thead th {\n",
       "        text-align: right;\n",
       "    }\n",
       "</style>\n",
       "<table border=\"1\" class=\"dataframe\">\n",
       "  <thead>\n",
       "    <tr style=\"text-align: right;\">\n",
       "      <th></th>\n",
       "      <th>Date</th>\n",
       "      <th>msecs</th>\n",
       "      <th>Time</th>\n",
       "      <th>Bid Price</th>\n",
       "      <th>Bid Size</th>\n",
       "      <th>Ask Price</th>\n",
       "      <th>Ask Size</th>\n",
       "      <th>Mid</th>\n",
       "      <th>dM</th>\n",
       "      <th>M_10ma</th>\n",
       "      <th>...</th>\n",
       "      <th>OI</th>\n",
       "      <th>OI_a1</th>\n",
       "      <th>OI_a2</th>\n",
       "      <th>OI_a3</th>\n",
       "      <th>OI_a4</th>\n",
       "      <th>OI_a5</th>\n",
       "      <th>OI_5ma</th>\n",
       "      <th>OI_10ma</th>\n",
       "      <th>OI_20ma</th>\n",
       "      <th>OI Ratio</th>\n",
       "    </tr>\n",
       "  </thead>\n",
       "  <tbody>\n",
       "    <tr>\n",
       "      <th>0</th>\n",
       "      <td>01/02/2019</td>\n",
       "      <td>28800000.0</td>\n",
       "      <td>07:59:59.757</td>\n",
       "      <td>2467.50</td>\n",
       "      <td>9.0</td>\n",
       "      <td>2467.75</td>\n",
       "      <td>36.0</td>\n",
       "      <td>2467.625</td>\n",
       "      <td>NaN</td>\n",
       "      <td>NaN</td>\n",
       "      <td>...</td>\n",
       "      <td>NaN</td>\n",
       "      <td>NaN</td>\n",
       "      <td>NaN</td>\n",
       "      <td>NaN</td>\n",
       "      <td>NaN</td>\n",
       "      <td>NaN</td>\n",
       "      <td>NaN</td>\n",
       "      <td>NaN</td>\n",
       "      <td>NaN</td>\n",
       "      <td>-0.600000</td>\n",
       "    </tr>\n",
       "    <tr>\n",
       "      <th>1</th>\n",
       "      <td>01/02/2019</td>\n",
       "      <td>28800500.0</td>\n",
       "      <td>08:00:00.305</td>\n",
       "      <td>2467.25</td>\n",
       "      <td>36.0</td>\n",
       "      <td>2467.50</td>\n",
       "      <td>19.0</td>\n",
       "      <td>2467.375</td>\n",
       "      <td>-0.25</td>\n",
       "      <td>NaN</td>\n",
       "      <td>...</td>\n",
       "      <td>-19.0</td>\n",
       "      <td>NaN</td>\n",
       "      <td>NaN</td>\n",
       "      <td>NaN</td>\n",
       "      <td>NaN</td>\n",
       "      <td>NaN</td>\n",
       "      <td>NaN</td>\n",
       "      <td>NaN</td>\n",
       "      <td>NaN</td>\n",
       "      <td>0.309091</td>\n",
       "    </tr>\n",
       "    <tr>\n",
       "      <th>2</th>\n",
       "      <td>01/02/2019</td>\n",
       "      <td>28801000.0</td>\n",
       "      <td>08:00:00.826</td>\n",
       "      <td>2467.25</td>\n",
       "      <td>42.0</td>\n",
       "      <td>2467.50</td>\n",
       "      <td>3.0</td>\n",
       "      <td>2467.375</td>\n",
       "      <td>0.00</td>\n",
       "      <td>NaN</td>\n",
       "      <td>...</td>\n",
       "      <td>22.0</td>\n",
       "      <td>-19.0</td>\n",
       "      <td>NaN</td>\n",
       "      <td>NaN</td>\n",
       "      <td>NaN</td>\n",
       "      <td>NaN</td>\n",
       "      <td>NaN</td>\n",
       "      <td>NaN</td>\n",
       "      <td>NaN</td>\n",
       "      <td>0.866667</td>\n",
       "    </tr>\n",
       "    <tr>\n",
       "      <th>3</th>\n",
       "      <td>01/02/2019</td>\n",
       "      <td>28801500.0</td>\n",
       "      <td>08:00:01.349</td>\n",
       "      <td>2467.25</td>\n",
       "      <td>29.0</td>\n",
       "      <td>2467.50</td>\n",
       "      <td>30.0</td>\n",
       "      <td>2467.375</td>\n",
       "      <td>0.00</td>\n",
       "      <td>NaN</td>\n",
       "      <td>...</td>\n",
       "      <td>-40.0</td>\n",
       "      <td>22.0</td>\n",
       "      <td>-19.0</td>\n",
       "      <td>NaN</td>\n",
       "      <td>NaN</td>\n",
       "      <td>NaN</td>\n",
       "      <td>NaN</td>\n",
       "      <td>NaN</td>\n",
       "      <td>NaN</td>\n",
       "      <td>-0.016949</td>\n",
       "    </tr>\n",
       "    <tr>\n",
       "      <th>4</th>\n",
       "      <td>01/02/2019</td>\n",
       "      <td>28802000.0</td>\n",
       "      <td>08:00:01.761</td>\n",
       "      <td>2467.25</td>\n",
       "      <td>42.0</td>\n",
       "      <td>2467.50</td>\n",
       "      <td>22.0</td>\n",
       "      <td>2467.375</td>\n",
       "      <td>0.00</td>\n",
       "      <td>NaN</td>\n",
       "      <td>...</td>\n",
       "      <td>21.0</td>\n",
       "      <td>-40.0</td>\n",
       "      <td>22.0</td>\n",
       "      <td>-19.0</td>\n",
       "      <td>NaN</td>\n",
       "      <td>NaN</td>\n",
       "      <td>NaN</td>\n",
       "      <td>NaN</td>\n",
       "      <td>NaN</td>\n",
       "      <td>0.312500</td>\n",
       "    </tr>\n",
       "  </tbody>\n",
       "</table>\n",
       "<p>5 rows × 35 columns</p>\n",
       "</div>"
      ],
      "text/plain": [
       "         Date       msecs          Time  Bid Price  Bid Size  Ask Price  \\\n",
       "0  01/02/2019  28800000.0  07:59:59.757    2467.50       9.0    2467.75   \n",
       "1  01/02/2019  28800500.0  08:00:00.305    2467.25      36.0    2467.50   \n",
       "2  01/02/2019  28801000.0  08:00:00.826    2467.25      42.0    2467.50   \n",
       "3  01/02/2019  28801500.0  08:00:01.349    2467.25      29.0    2467.50   \n",
       "4  01/02/2019  28802000.0  08:00:01.761    2467.25      42.0    2467.50   \n",
       "\n",
       "   Ask Size       Mid    dM  M_10ma    ...       OI  OI_a1  OI_a2  OI_a3  \\\n",
       "0      36.0  2467.625   NaN     NaN    ...      NaN    NaN    NaN    NaN   \n",
       "1      19.0  2467.375 -0.25     NaN    ...    -19.0    NaN    NaN    NaN   \n",
       "2       3.0  2467.375  0.00     NaN    ...     22.0  -19.0    NaN    NaN   \n",
       "3      30.0  2467.375  0.00     NaN    ...    -40.0   22.0  -19.0    NaN   \n",
       "4      22.0  2467.375  0.00     NaN    ...     21.0  -40.0   22.0  -19.0   \n",
       "\n",
       "   OI_a4  OI_a5  OI_5ma  OI_10ma  OI_20ma  OI Ratio  \n",
       "0    NaN    NaN     NaN      NaN      NaN -0.600000  \n",
       "1    NaN    NaN     NaN      NaN      NaN  0.309091  \n",
       "2    NaN    NaN     NaN      NaN      NaN  0.866667  \n",
       "3    NaN    NaN     NaN      NaN      NaN -0.016949  \n",
       "4    NaN    NaN     NaN      NaN      NaN  0.312500  \n",
       "\n",
       "[5 rows x 35 columns]"
      ]
     },
     "execution_count": 267,
     "metadata": {},
     "output_type": "execute_result"
    }
   ],
   "source": [
    "DF.head()"
   ]
  },
  {
   "cell_type": "code",
   "execution_count": 95,
   "metadata": {},
   "outputs": [],
   "source": [
    "DF.loc[:,'Time'] = DF.loc[:,'Time'].replace(np.nan,'',regex=True)\n",
    "\n",
    "##### extract out trading days (non-Sunday) #####\n",
    "day_p = np.zeros(DF.shape[0])\n",
    "dates = np.unique(DF['Date'].values)\n",
    "wknd = [day for day in dates if datetime.strptime(day,'%m/%d/%Y').weekday()>=5]\n",
    "for idx, day in enumerate(wknd):\n",
    "    day_p += DF['Date'].values == day\n",
    "    \n",
    "DF = DF[day_p == 0]\n",
    "#################################################\n",
    "\n",
    "DF.head()"
   ]
  },
  {
   "cell_type": "markdown",
   "metadata": {},
   "source": [
    "# Exploration"
   ]
  },
  {
   "cell_type": "code",
   "execution_count": 4,
   "metadata": {},
   "outputs": [
    {
     "data": {
      "image/png": "[encoded data removed]",
      "text/plain": [
       "<Figure size 576x432 with 1 Axes>"
      ]
     },
     "metadata": {
      "needs_background": "light"
     },
     "output_type": "display_data"
    }
   ],
   "source": [
    "plt.figure(figsize=(8,6))\n",
    "plt.scatter(DF['OI'],DF['dM'])\n",
    "plt.xlabel(\"VOI (500ms)\")\n",
    "plt.ylabel(\"Price Change (500ms)\")\n",
    "plt.show()"
   ]
  },
  {
   "cell_type": "code",
   "execution_count": 5,
   "metadata": {},
   "outputs": [
    {
     "data": {
      "text/html": [
       "<div>\n",
       "<style scoped>\n",
       "    .dataframe tbody tr th:only-of-type {\n",
       "        vertical-align: middle;\n",
       "    }\n",
       "\n",
       "    .dataframe tbody tr th {\n",
       "        vertical-align: top;\n",
       "    }\n",
       "\n",
       "    .dataframe thead th {\n",
       "        text-align: right;\n",
       "    }\n",
       "</style>\n",
       "<table border=\"1\" class=\"dataframe\">\n",
       "  <thead>\n",
       "    <tr style=\"text-align: right;\">\n",
       "      <th></th>\n",
       "      <th>OI</th>\n",
       "      <th>dM</th>\n",
       "    </tr>\n",
       "  </thead>\n",
       "  <tbody>\n",
       "    <tr>\n",
       "      <th>OI</th>\n",
       "      <td>1.000000</td>\n",
       "      <td>0.401592</td>\n",
       "    </tr>\n",
       "    <tr>\n",
       "      <th>dM</th>\n",
       "      <td>0.401592</td>\n",
       "      <td>1.000000</td>\n",
       "    </tr>\n",
       "  </tbody>\n",
       "</table>\n",
       "</div>"
      ],
      "text/plain": [
       "          OI        dM\n",
       "OI  1.000000  0.401592\n",
       "dM  0.401592  1.000000"
      ]
     },
     "execution_count": 5,
     "metadata": {},
     "output_type": "execute_result"
    }
   ],
   "source": [
    "DF[['OI','dM']].corr()"
   ]
  },
  {
   "cell_type": "markdown",
   "metadata": {},
   "source": [
    "# SVM"
   ]
  },
  {
   "cell_type": "markdown",
   "metadata": {},
   "source": [
    "## Extracting days"
   ]
  },
  {
   "cell_type": "code",
   "execution_count": 6,
   "metadata": {},
   "outputs": [],
   "source": [
    "dates = np.unique(DF['Date'].values)\n",
    "wkdys = [day for day in dates if datetime.strptime(day,'%m/%d/%Y').weekday()<5]\n",
    "train_dys = wkdys[:7]"
   ]
  },
  {
   "cell_type": "code",
   "execution_count": 7,
   "metadata": {},
   "outputs": [
    {
     "data": {
      "text/plain": [
       "['01/02/2019',\n",
       " '01/03/2019',\n",
       " '01/04/2019',\n",
       " '01/07/2019',\n",
       " '01/08/2019',\n",
       " '01/09/2019',\n",
       " '01/10/2019']"
      ]
     },
     "execution_count": 7,
     "metadata": {},
     "output_type": "execute_result"
    }
   ],
   "source": [
    "train_dys"
   ]
  },
  {
   "cell_type": "code",
   "execution_count": 10,
   "metadata": {},
   "outputs": [],
   "source": [
    "x_labs = ['OI_a1', 'OI_a2', 'OI_a3', 'OI_a4', 'OI_a5'] # covars\n",
    "y_labs = ['signal','signal2','signal3','signal4','signal5','signal6']\n",
    "\n",
    "# list of data frames for the first 7 business days\n",
    "tdf = [DF.loc[DF['Date'] == d,x_labs+y_labs].dropna() for d in train_dys]"
   ]
  },
  {
   "cell_type": "code",
   "execution_count": 9,
   "metadata": {},
   "outputs": [],
   "source": [
    "def my_confusion_matrix(mat):\n",
    "    # input is whatever is returned by sklearn's\n",
    "    # confusion matrix\n",
    "    cols = ['Buy (p)','Hold (p)','Sell (p)']\n",
    "    ind = ['Buy (t)','Hold (t)','Sell (t)']\n",
    "    return pd.DataFrame(mat, columns=cols,index=ind)"
   ]
  },
  {
   "cell_type": "markdown",
   "metadata": {},
   "source": [
    "## SVM Model 1"
   ]
  },
  {
   "cell_type": "markdown",
   "metadata": {},
   "source": [
    "### Testing the code"
   ]
  },
  {
   "cell_type": "code",
   "execution_count": 141,
   "metadata": {},
   "outputs": [],
   "source": [
    "dates = np.unique(DF['Date'].values)\n",
    "df_list = [DF.loc[DF['Date']==d,x_labs+['signal6']].dropna() for d in dates]"
   ]
  },
  {
   "cell_type": "code",
   "execution_count": 150,
   "metadata": {},
   "outputs": [],
   "source": [
    "train_list = df_list[:4] # first 4 days\n",
    "x_labs = ['OI_a1','OI_a2','OI_a3','OI_a4','OI_a5']\n",
    "\n",
    "# signal6\n",
    "\n",
    "# What we want\n",
    "#   training predictions\n",
    "#   test predictions\n",
    "#   signal columns"
   ]
  },
  {
   "cell_type": "code",
   "execution_count": 189,
   "metadata": {},
   "outputs": [
    {
     "name": "stderr",
     "output_type": "stream",
     "text": [
      "\n",
      "0it [00:00, ?it/s]"
     ]
    },
    {
     "name": "stdout",
     "output_type": "stream",
     "text": [
      "---------- Day 1 ----------\n",
      "\n",
      "Training...\n",
      "Training complete... 12\n",
      "Predicting on training...\n",
      "Predicting on test...\n"
     ]
    },
    {
     "name": "stderr",
     "output_type": "stream",
     "text": [
      "\n",
      "1it [00:12, 12.44s/it]"
     ]
    },
    {
     "name": "stdout",
     "output_type": "stream",
     "text": [
      "---------- Day 2 ----------\n",
      "\n",
      "Training...\n",
      "Training complete... 12\n",
      "Predicting on training...\n",
      "Predicting on test...\n"
     ]
    },
    {
     "name": "stderr",
     "output_type": "stream",
     "text": [
      "\n",
      "2it [00:24, 12.43s/it]"
     ]
    },
    {
     "name": "stdout",
     "output_type": "stream",
     "text": [
      "---------- Day 3 ----------\n",
      "\n",
      "Training...\n",
      "Training complete... 11\n",
      "Predicting on training...\n",
      "Predicting on test...\n"
     ]
    },
    {
     "name": "stderr",
     "output_type": "stream",
     "text": [
      "\n",
      "3it [00:37, 12.36s/it]\n"
     ]
    }
   ],
   "source": [
    "conf_mats = []\n",
    "ypred_tr  = [] # store training predictions\n",
    "ypred_te  = [] # store test predictions\n",
    "times     = [] # fitting times\n",
    "\n",
    "\n",
    "for idx, dft in tqdm(enumerate(train_list[:-1])):\n",
    "    print(\"---------- Day\",idx+1,'----------\\n')\n",
    "    mat_vec = []  # store the confusion matrices\n",
    "    \n",
    "    svmfit = svm.LinearSVC(C=10**-2,class_weight = 'balanced')\n",
    "    \n",
    "    today = dft                # train on today\n",
    "    tom   = train_list[idx+1]  # test on tomorrow\n",
    "    \n",
    "    #####\n",
    "    start = time.time()\n",
    "    print(\"Training...\")\n",
    "    svmfit.fit(today[x_labs].values,today['signal6'].values)\n",
    "    end = time.time()\n",
    "    t = np.int64(end-start)\n",
    "    print(\"Training complete...\", t)\n",
    "    times.append(t)\n",
    "    #####\n",
    "    \n",
    "    y_tr   = today['signal6'].values\n",
    "    y_te   = tom['signal6'].values\n",
    "    \n",
    "    print(\"Predicting on training...\")\n",
    "    yhat_r = svmfit.predict(today[x_labs])\n",
    "    \n",
    "    print(\"Predicting on test...\")\n",
    "    yhat_e = svmfit.predict(tom[x_labs])\n",
    "    \n",
    "    ypred_tr.append(yhat_r)\n",
    "    ypred_te.append(yhat_e)\n",
    "    \n",
    "    tr_mat = confusion_matrix(y_tr, yhat_r,labels=[1,0,-1])\n",
    "    te_mat = confusion_matrix(y_te, yhat_e,labels=[1,0,-1])\n",
    "    mat_vec = [my_confusion_matrix(tr_mat),my_confusion_matrix(tr_mat)]\n",
    "    \n",
    "    conf_mats.append(mat_vec)"
   ]
  },
  {
   "cell_type": "code",
   "execution_count": 181,
   "metadata": {},
   "outputs": [],
   "source": [
    "ytruetest = [train['signal6'].values for train in train_list[1:]]\n",
    "ytruetrain= [train['signal6'].values for train in train_list[:-1]]"
   ]
  },
  {
   "cell_type": "code",
   "execution_count": 182,
   "metadata": {},
   "outputs": [
    {
     "data": {
      "text/html": [
       "<div>\n",
       "<style scoped>\n",
       "    .dataframe tbody tr th:only-of-type {\n",
       "        vertical-align: middle;\n",
       "    }\n",
       "\n",
       "    .dataframe tbody tr th {\n",
       "        vertical-align: top;\n",
       "    }\n",
       "\n",
       "    .dataframe thead th {\n",
       "        text-align: right;\n",
       "    }\n",
       "</style>\n",
       "<table border=\"1\" class=\"dataframe\">\n",
       "  <thead>\n",
       "    <tr style=\"text-align: right;\">\n",
       "      <th></th>\n",
       "      <th>Loss Train</th>\n",
       "      <th>Loss Test</th>\n",
       "      <th>Accuracy Train 1</th>\n",
       "      <th>Accuracy Train 2</th>\n",
       "      <th>Accuracy Test 1</th>\n",
       "      <th>Accuracy Test 2</th>\n",
       "    </tr>\n",
       "  </thead>\n",
       "  <tbody>\n",
       "    <tr>\n",
       "      <th>Day 1</th>\n",
       "      <td>30672.0</td>\n",
       "      <td>31693.0</td>\n",
       "      <td>0.555573</td>\n",
       "      <td>0.772740</td>\n",
       "      <td>0.553760</td>\n",
       "      <td>0.765241</td>\n",
       "    </tr>\n",
       "    <tr>\n",
       "      <th>Day 2</th>\n",
       "      <td>31700.0</td>\n",
       "      <td>31674.0</td>\n",
       "      <td>0.555877</td>\n",
       "      <td>0.765182</td>\n",
       "      <td>0.594732</td>\n",
       "      <td>0.776941</td>\n",
       "    </tr>\n",
       "    <tr>\n",
       "      <th>Day 3</th>\n",
       "      <td>30310.0</td>\n",
       "      <td>29896.0</td>\n",
       "      <td>0.561655</td>\n",
       "      <td>0.788181</td>\n",
       "      <td>0.593237</td>\n",
       "      <td>0.802550</td>\n",
       "    </tr>\n",
       "  </tbody>\n",
       "</table>\n",
       "</div>"
      ],
      "text/plain": [
       "       Loss Train  Loss Test  Accuracy Train 1  Accuracy Train 2  \\\n",
       "Day 1     30672.0    31693.0          0.555573          0.772740   \n",
       "Day 2     31700.0    31674.0          0.555877          0.765182   \n",
       "Day 3     30310.0    29896.0          0.561655          0.788181   \n",
       "\n",
       "       Accuracy Test 1  Accuracy Test 2  \n",
       "Day 1         0.553760         0.765241  \n",
       "Day 2         0.594732         0.776941  \n",
       "Day 3         0.593237         0.802550  "
      ]
     },
     "execution_count": 182,
     "metadata": {},
     "output_type": "execute_result"
    }
   ],
   "source": [
    "my_loss_fn(ytruetest,ytruetrain,ypred_te,ypred_tr)"
   ]
  },
  {
   "cell_type": "markdown",
   "metadata": {},
   "source": [
    "## Cross Validation"
   ]
  },
  {
   "cell_type": "code",
   "execution_count": 260,
   "metadata": {},
   "outputs": [],
   "source": [
    "from sklearn.model_selection import cross_validate\n",
    "\n",
    "def trading_loss(ytrue,ypred):\n",
    "    conftrain = confusion_matrix(ytrue, ypred)\n",
    "    loss = np.array([[0,1,2],[1,0,1],[2,1,0]])\n",
    "    return np.sum(conftrain * loss)\n",
    "\n",
    "\n",
    "trade_scorer=make_scorer(trading_loss,greater_is_better=False)"
   ]
  },
  {
   "cell_type": "markdown",
   "metadata": {},
   "source": [
    "### Extracting the train/test indexes"
   ]
  },
  {
   "cell_type": "code",
   "execution_count": 281,
   "metadata": {},
   "outputs": [],
   "source": [
    "def my_train_test_idx(DF,xlabs=xlabs,ylabs=['signal6'],return_df=False,n_days=4):\n",
    "    '''\n",
    "    input your data frame and which x's you want to use\n",
    "        as a list into xlabs\n",
    "        \n",
    "    return_df to return new data frame for CV\n",
    "    return value is list of 2-tuples of train & test\n",
    "        index iterables\n",
    "        - pass directly into the cv parameter of cross_validate\n",
    "    '''\n",
    "    df = DF[['Date']+xlabs+ylabs].dropna()\n",
    "    \n",
    "    #list of lengths of each day's data\n",
    "    lengths = []\n",
    "    for d in np.unique(DF['Date'].values)[:n_days]:\n",
    "        lengths.append(df[df['Date']==d].shape[0])\n",
    "    \n",
    "    # where each day starts/ends\n",
    "    bounds = np.cumsum(lengths)\n",
    "    \n",
    "    # list of 2-tuples of train & test indexes\n",
    "    train_test_idx=[]\n",
    "    prev=0\n",
    "    for idx,val in enumerate(bounds[:-1]):\n",
    "        train_id = range(prev,val)\n",
    "        test_id = range(val,b[idx+1])\n",
    "        prev = val\n",
    "        train_test_idx.append((train_id,test_id))\n",
    "    \n",
    "    if return_df:\n",
    "        return(train_test_idx,df)\n",
    "    return (train_test_idx)"
   ]
  },
  {
   "cell_type": "code",
   "execution_count": 282,
   "metadata": {},
   "outputs": [],
   "source": [
    "xlabs = ['OI_a1','OI_a2','OI_a3','OI_a4','OI_a5','OI Ratio']\n",
    "ylab = ['signal6']\n",
    "\n",
    "idxs,df = my_train_test_idx(DF,xlabs,return_df=True)"
   ]
  },
  {
   "cell_type": "code",
   "execution_count": 284,
   "metadata": {},
   "outputs": [],
   "source": [
    "# what C values do I want\n",
    "#sv = svm.LinearSVM(dual=False,C=1,class_weight = 'balanced')\n",
    "sv = svm.LinearSVC(dual=False,class_weight='balanced')\n",
    "tmp = cross_validate(sv,X = df[xlabs].values,\n",
    "                     y = df['signal6'].values,\n",
    "                     scoring=trade_scorer,\n",
    "                     cv=idxs,\n",
    "                    return_train_score=True)"
   ]
  },
  {
   "cell_type": "code",
   "execution_count": null,
   "metadata": {},
   "outputs": [],
   "source": [
    "for c in np.logspace(10**-4,1,5):\n",
    "    sv = svm.LinearSVC(C=c,dual=False,class_weight='balanced')\n",
    "    "
   ]
  }
 ],
 "metadata": {
  "kernelspec": {
   "display_name": "Python 3",
   "language": "python",
   "name": "python3"
  },
  "language_info": {
   "codemirror_mode": {
    "name": "ipython",
    "version": 3
   },
   "file_extension": ".py",
   "mimetype": "text/x-python",
   "name": "python",
   "nbconvert_exporter": "python",
   "pygments_lexer": "ipython3",
   "version": "3.7.0"
  }
 },
 "nbformat": 4,
 "nbformat_minor": 2
}
